{
 "cells": [
  {
   "cell_type": "code",
   "execution_count": 1,
   "id": "a33bf806",
   "metadata": {},
   "outputs": [],
   "source": [
    "# Pandas"
   ]
  },
  {
   "cell_type": "code",
   "execution_count": 2,
   "id": "28781df1",
   "metadata": {},
   "outputs": [],
   "source": [
    "import pandas as pd"
   ]
  },
  {
   "cell_type": "markdown",
   "id": "51748c13",
   "metadata": {},
   "source": [
    "## Reading and Writing files"
   ]
  },
  {
   "cell_type": "code",
   "execution_count": 3,
   "id": "542a7bc6",
   "metadata": {},
   "outputs": [],
   "source": [
    "# Reading a CSV file\n",
    "df = pd.read_csv('resources/modified_SFO_Airport_Utility_Consumption.csv')"
   ]
  },
  {
   "cell_type": "code",
   "execution_count": 4,
   "id": "a184f402",
   "metadata": {},
   "outputs": [],
   "source": [
    "# Writing to a CSV file\n",
    "df.to_csv(\"resources/modified_util.csv\", index=False, header=True)"
   ]
  },
  {
   "cell_type": "code",
   "execution_count": 5,
   "id": "5b60ee99",
   "metadata": {},
   "outputs": [],
   "source": [
    "# Writing to an Excel file\n",
    "df.to_excel(\"resources/modified_util.xlsx\", index=False)"
   ]
  },
  {
   "cell_type": "markdown",
   "id": "51887da4",
   "metadata": {},
   "source": [
    "## Exploring Data"
   ]
  },
  {
   "cell_type": "code",
   "execution_count": 6,
   "id": "86b1e010",
   "metadata": {},
   "outputs": [
    {
     "data": {
      "text/html": [
       "<div>\n",
       "<style scoped>\n",
       "    .dataframe tbody tr th:only-of-type {\n",
       "        vertical-align: middle;\n",
       "    }\n",
       "\n",
       "    .dataframe tbody tr th {\n",
       "        vertical-align: top;\n",
       "    }\n",
       "\n",
       "    .dataframe thead th {\n",
       "        text-align: right;\n",
       "    }\n",
       "</style>\n",
       "<table border=\"1\" class=\"dataframe\">\n",
       "  <thead>\n",
       "    <tr style=\"text-align: right;\">\n",
       "      <th></th>\n",
       "      <th>Year</th>\n",
       "      <th>Month Number</th>\n",
       "      <th>Month</th>\n",
       "      <th>Utility</th>\n",
       "      <th>Owner</th>\n",
       "      <th>units</th>\n",
       "      <th>usage</th>\n",
       "      <th>Comments</th>\n",
       "    </tr>\n",
       "  </thead>\n",
       "  <tbody>\n",
       "    <tr>\n",
       "      <th>0</th>\n",
       "      <td>2013.0</td>\n",
       "      <td>NaN</td>\n",
       "      <td>Jan</td>\n",
       "      <td>Passengers</td>\n",
       "      <td>Campus</td>\n",
       "      <td>PAX</td>\n",
       "      <td>3209356.0</td>\n",
       "      <td>NaN</td>\n",
       "    </tr>\n",
       "    <tr>\n",
       "      <th>1</th>\n",
       "      <td>2013.0</td>\n",
       "      <td>1.0</td>\n",
       "      <td>Jan</td>\n",
       "      <td>Gas</td>\n",
       "      <td>Commission</td>\n",
       "      <td>Therms</td>\n",
       "      <td>363205.0</td>\n",
       "      <td>NaN</td>\n",
       "    </tr>\n",
       "    <tr>\n",
       "      <th>2</th>\n",
       "      <td>2013.0</td>\n",
       "      <td>NaN</td>\n",
       "      <td>Jan</td>\n",
       "      <td>Gas</td>\n",
       "      <td>Tenant</td>\n",
       "      <td>Therms</td>\n",
       "      <td>49393.0</td>\n",
       "      <td>NaN</td>\n",
       "    </tr>\n",
       "    <tr>\n",
       "      <th>3</th>\n",
       "      <td>NaN</td>\n",
       "      <td>1.0</td>\n",
       "      <td>Jan</td>\n",
       "      <td>Elec</td>\n",
       "      <td>Commission</td>\n",
       "      <td>kWh</td>\n",
       "      <td>12904353.0</td>\n",
       "      <td>NaN</td>\n",
       "    </tr>\n",
       "    <tr>\n",
       "      <th>4</th>\n",
       "      <td>2013.0</td>\n",
       "      <td>1.0</td>\n",
       "      <td>Jan</td>\n",
       "      <td>Electricity</td>\n",
       "      <td>Tenant</td>\n",
       "      <td>NaN</td>\n",
       "      <td>14002156.0</td>\n",
       "      <td>NaN</td>\n",
       "    </tr>\n",
       "  </tbody>\n",
       "</table>\n",
       "</div>"
      ],
      "text/plain": [
       "     Year  Month Number Month      Utility       Owner   units       usage  \\\n",
       "0  2013.0           NaN   Jan   Passengers      Campus     PAX   3209356.0   \n",
       "1  2013.0           1.0   Jan          Gas  Commission  Therms    363205.0   \n",
       "2  2013.0           NaN   Jan          Gas      Tenant  Therms     49393.0   \n",
       "3     NaN           1.0   Jan         Elec  Commission     kWh  12904353.0   \n",
       "4  2013.0           1.0   Jan  Electricity      Tenant     NaN  14002156.0   \n",
       "\n",
       "   Comments  \n",
       "0       NaN  \n",
       "1       NaN  \n",
       "2       NaN  \n",
       "3       NaN  \n",
       "4       NaN  "
      ]
     },
     "execution_count": 6,
     "metadata": {},
     "output_type": "execute_result"
    }
   ],
   "source": [
    "# Head of the dataframe\n",
    "df.head()"
   ]
  },
  {
   "cell_type": "code",
   "execution_count": 7,
   "id": "b3cf95d4",
   "metadata": {},
   "outputs": [
    {
     "data": {
      "text/html": [
       "<div>\n",
       "<style scoped>\n",
       "    .dataframe tbody tr th:only-of-type {\n",
       "        vertical-align: middle;\n",
       "    }\n",
       "\n",
       "    .dataframe tbody tr th {\n",
       "        vertical-align: top;\n",
       "    }\n",
       "\n",
       "    .dataframe thead th {\n",
       "        text-align: right;\n",
       "    }\n",
       "</style>\n",
       "<table border=\"1\" class=\"dataframe\">\n",
       "  <thead>\n",
       "    <tr style=\"text-align: right;\">\n",
       "      <th></th>\n",
       "      <th>Year</th>\n",
       "      <th>Month Number</th>\n",
       "      <th>Month</th>\n",
       "      <th>Utility</th>\n",
       "      <th>Owner</th>\n",
       "      <th>units</th>\n",
       "      <th>usage</th>\n",
       "      <th>Comments</th>\n",
       "    </tr>\n",
       "  </thead>\n",
       "  <tbody>\n",
       "    <tr>\n",
       "      <th>555</th>\n",
       "      <td>2019.0</td>\n",
       "      <td>8.0</td>\n",
       "      <td>Aug</td>\n",
       "      <td>Gas</td>\n",
       "      <td>Tenant</td>\n",
       "      <td>Therms</td>\n",
       "      <td>6.160002e+03</td>\n",
       "      <td>NaN</td>\n",
       "    </tr>\n",
       "    <tr>\n",
       "      <th>556</th>\n",
       "      <td>2019.0</td>\n",
       "      <td>8.0</td>\n",
       "      <td>Aug</td>\n",
       "      <td>Electricity</td>\n",
       "      <td>NaN</td>\n",
       "      <td>kWh</td>\n",
       "      <td>1.563947e+07</td>\n",
       "      <td>NaN</td>\n",
       "    </tr>\n",
       "    <tr>\n",
       "      <th>557</th>\n",
       "      <td>2019.0</td>\n",
       "      <td>8.0</td>\n",
       "      <td>Aug</td>\n",
       "      <td>Electricity</td>\n",
       "      <td>Tenant</td>\n",
       "      <td>kWh</td>\n",
       "      <td>1.251209e+07</td>\n",
       "      <td>NaN</td>\n",
       "    </tr>\n",
       "    <tr>\n",
       "      <th>558</th>\n",
       "      <td>2019.0</td>\n",
       "      <td>8.0</td>\n",
       "      <td>Aug</td>\n",
       "      <td>Water</td>\n",
       "      <td>Commission</td>\n",
       "      <td>Million Gallons</td>\n",
       "      <td>2.767076e+01</td>\n",
       "      <td>NaN</td>\n",
       "    </tr>\n",
       "    <tr>\n",
       "      <th>559</th>\n",
       "      <td>2019.0</td>\n",
       "      <td>8.0</td>\n",
       "      <td>Aug</td>\n",
       "      <td>NaN</td>\n",
       "      <td>Tenant</td>\n",
       "      <td>Million Gallons</td>\n",
       "      <td>1.512082e+01</td>\n",
       "      <td>NaN</td>\n",
       "    </tr>\n",
       "  </tbody>\n",
       "</table>\n",
       "</div>"
      ],
      "text/plain": [
       "       Year  Month Number Month      Utility       Owner            units  \\\n",
       "555  2019.0           8.0   Aug          Gas      Tenant           Therms   \n",
       "556  2019.0           8.0   Aug  Electricity         NaN              kWh   \n",
       "557  2019.0           8.0   Aug  Electricity      Tenant              kWh   \n",
       "558  2019.0           8.0   Aug        Water  Commission  Million Gallons   \n",
       "559  2019.0           8.0   Aug          NaN      Tenant  Million Gallons   \n",
       "\n",
       "            usage  Comments  \n",
       "555  6.160002e+03       NaN  \n",
       "556  1.563947e+07       NaN  \n",
       "557  1.251209e+07       NaN  \n",
       "558  2.767076e+01       NaN  \n",
       "559  1.512082e+01       NaN  "
      ]
     },
     "execution_count": 7,
     "metadata": {},
     "output_type": "execute_result"
    }
   ],
   "source": [
    "# Tail of the dataframe\n",
    "df.tail()"
   ]
  },
  {
   "cell_type": "code",
   "execution_count": 8,
   "id": "e1ea06b8",
   "metadata": {},
   "outputs": [
    {
     "data": {
      "text/plain": [
       "(560, 8)"
      ]
     },
     "execution_count": 8,
     "metadata": {},
     "output_type": "execute_result"
    }
   ],
   "source": [
    "# Shape of the dataframe\n",
    "df.shape"
   ]
  },
  {
   "cell_type": "code",
   "execution_count": 9,
   "id": "ab43895c",
   "metadata": {},
   "outputs": [
    {
     "data": {
      "text/plain": [
       "Index(['Year', 'Month Number', 'Month', 'Utility', 'Owner', 'units', 'usage',\n",
       "       'Comments'],\n",
       "      dtype='object')"
      ]
     },
     "execution_count": 9,
     "metadata": {},
     "output_type": "execute_result"
    }
   ],
   "source": [
    "# Column names of the dataframe\n",
    "df.columns"
   ]
  },
  {
   "cell_type": "code",
   "execution_count": 10,
   "id": "37309bba",
   "metadata": {},
   "outputs": [
    {
     "data": {
      "text/plain": [
       "Year            528\n",
       "Month Number    537\n",
       "Month           529\n",
       "Utility         536\n",
       "Owner           530\n",
       "units           534\n",
       "usage           530\n",
       "Comments          0\n",
       "dtype: int64"
      ]
     },
     "execution_count": 10,
     "metadata": {},
     "output_type": "execute_result"
    }
   ],
   "source": [
    "# Count of the data in the dataframe\n",
    "df.count()"
   ]
  },
  {
   "cell_type": "code",
   "execution_count": 11,
   "id": "6af3efaf",
   "metadata": {},
   "outputs": [
    {
     "data": {
      "text/plain": [
       "Year             32\n",
       "Month Number     23\n",
       "Month            31\n",
       "Utility          24\n",
       "Owner            30\n",
       "units            26\n",
       "usage            30\n",
       "Comments        560\n",
       "dtype: int64"
      ]
     },
     "execution_count": 11,
     "metadata": {},
     "output_type": "execute_result"
    }
   ],
   "source": [
    "# Null values in the dataframe\n",
    "df.isnull().sum()"
   ]
  },
  {
   "cell_type": "code",
   "execution_count": 12,
   "id": "919f649f",
   "metadata": {},
   "outputs": [
    {
     "data": {
      "text/plain": [
       "Year            float64\n",
       "Month Number    float64\n",
       "Month            object\n",
       "Utility          object\n",
       "Owner            object\n",
       "units            object\n",
       "usage           float64\n",
       "Comments        float64\n",
       "dtype: object"
      ]
     },
     "execution_count": 12,
     "metadata": {},
     "output_type": "execute_result"
    }
   ],
   "source": [
    "# Data types of the data in the dataframe\n",
    "df.dtypes"
   ]
  },
  {
   "cell_type": "code",
   "execution_count": 13,
   "id": "818d5bfa",
   "metadata": {},
   "outputs": [
    {
     "data": {
      "text/plain": [
       "count     528.000000\n",
       "mean     2015.859848\n",
       "std         1.929315\n",
       "min      2013.000000\n",
       "25%      2014.000000\n",
       "50%      2016.000000\n",
       "75%      2017.000000\n",
       "max      2019.000000\n",
       "Name: Year, dtype: float64"
      ]
     },
     "execution_count": 13,
     "metadata": {},
     "output_type": "execute_result"
    }
   ],
   "source": [
    "df['Year'].describe()"
   ]
  },
  {
   "cell_type": "code",
   "execution_count": 14,
   "id": "8f2eb560",
   "metadata": {},
   "outputs": [
    {
     "data": {
      "text/html": [
       "<div>\n",
       "<style scoped>\n",
       "    .dataframe tbody tr th:only-of-type {\n",
       "        vertical-align: middle;\n",
       "    }\n",
       "\n",
       "    .dataframe tbody tr th {\n",
       "        vertical-align: top;\n",
       "    }\n",
       "\n",
       "    .dataframe thead th {\n",
       "        text-align: right;\n",
       "    }\n",
       "</style>\n",
       "<table border=\"1\" class=\"dataframe\">\n",
       "  <thead>\n",
       "    <tr style=\"text-align: right;\">\n",
       "      <th></th>\n",
       "      <th>Year</th>\n",
       "      <th>Month Number</th>\n",
       "      <th>Month</th>\n",
       "      <th>Utility</th>\n",
       "      <th>Owner</th>\n",
       "      <th>units</th>\n",
       "      <th>usage</th>\n",
       "      <th>Comments</th>\n",
       "    </tr>\n",
       "  </thead>\n",
       "  <tbody>\n",
       "    <tr>\n",
       "      <th>0</th>\n",
       "      <td>2013.0</td>\n",
       "      <td>NaN</td>\n",
       "      <td>Jan</td>\n",
       "      <td>Passengers</td>\n",
       "      <td>Campus</td>\n",
       "      <td>PAX</td>\n",
       "      <td>3209356.0</td>\n",
       "      <td>NaN</td>\n",
       "    </tr>\n",
       "    <tr>\n",
       "      <th>1</th>\n",
       "      <td>2013.0</td>\n",
       "      <td>1.0</td>\n",
       "      <td>Jan</td>\n",
       "      <td>Gas</td>\n",
       "      <td>Commission</td>\n",
       "      <td>Therms</td>\n",
       "      <td>363205.0</td>\n",
       "      <td>NaN</td>\n",
       "    </tr>\n",
       "    <tr>\n",
       "      <th>2</th>\n",
       "      <td>2013.0</td>\n",
       "      <td>NaN</td>\n",
       "      <td>Jan</td>\n",
       "      <td>Gas</td>\n",
       "      <td>Tenant</td>\n",
       "      <td>Therms</td>\n",
       "      <td>49393.0</td>\n",
       "      <td>NaN</td>\n",
       "    </tr>\n",
       "    <tr>\n",
       "      <th>3</th>\n",
       "      <td>NaN</td>\n",
       "      <td>1.0</td>\n",
       "      <td>Jan</td>\n",
       "      <td>Elec</td>\n",
       "      <td>Commission</td>\n",
       "      <td>kWh</td>\n",
       "      <td>12904353.0</td>\n",
       "      <td>NaN</td>\n",
       "    </tr>\n",
       "    <tr>\n",
       "      <th>4</th>\n",
       "      <td>2013.0</td>\n",
       "      <td>1.0</td>\n",
       "      <td>Jan</td>\n",
       "      <td>Electricity</td>\n",
       "      <td>Tenant</td>\n",
       "      <td>NaN</td>\n",
       "      <td>14002156.0</td>\n",
       "      <td>NaN</td>\n",
       "    </tr>\n",
       "  </tbody>\n",
       "</table>\n",
       "</div>"
      ],
      "text/plain": [
       "     Year  Month Number Month      Utility       Owner   units       usage  \\\n",
       "0  2013.0           NaN   Jan   Passengers      Campus     PAX   3209356.0   \n",
       "1  2013.0           1.0   Jan          Gas  Commission  Therms    363205.0   \n",
       "2  2013.0           NaN   Jan          Gas      Tenant  Therms     49393.0   \n",
       "3     NaN           1.0   Jan         Elec  Commission     kWh  12904353.0   \n",
       "4  2013.0           1.0   Jan  Electricity      Tenant     NaN  14002156.0   \n",
       "\n",
       "   Comments  \n",
       "0       NaN  \n",
       "1       NaN  \n",
       "2       NaN  \n",
       "3       NaN  \n",
       "4       NaN  "
      ]
     },
     "execution_count": 14,
     "metadata": {},
     "output_type": "execute_result"
    }
   ],
   "source": [
    "df.head()"
   ]
  },
  {
   "cell_type": "code",
   "execution_count": 15,
   "id": "c0a3e37a",
   "metadata": {},
   "outputs": [
    {
     "data": {
      "text/plain": [
       "'Tenant'"
      ]
     },
     "execution_count": 15,
     "metadata": {},
     "output_type": "execute_result"
    }
   ],
   "source": [
    "# iloc uses integer-based indexing for selection by position instead of using labels\n",
    "df.iloc[2,4]"
   ]
  },
  {
   "cell_type": "code",
   "execution_count": 16,
   "id": "bb9c3433",
   "metadata": {},
   "outputs": [
    {
     "data": {
      "text/html": [
       "<div>\n",
       "<style scoped>\n",
       "    .dataframe tbody tr th:only-of-type {\n",
       "        vertical-align: middle;\n",
       "    }\n",
       "\n",
       "    .dataframe tbody tr th {\n",
       "        vertical-align: top;\n",
       "    }\n",
       "\n",
       "    .dataframe thead th {\n",
       "        text-align: right;\n",
       "    }\n",
       "</style>\n",
       "<table border=\"1\" class=\"dataframe\">\n",
       "  <thead>\n",
       "    <tr style=\"text-align: right;\">\n",
       "      <th></th>\n",
       "      <th>Utility</th>\n",
       "      <th>Owner</th>\n",
       "      <th>units</th>\n",
       "      <th>usage</th>\n",
       "    </tr>\n",
       "  </thead>\n",
       "  <tbody>\n",
       "    <tr>\n",
       "      <th>2</th>\n",
       "      <td>Gas</td>\n",
       "      <td>Tenant</td>\n",
       "      <td>Therms</td>\n",
       "      <td>49393.0</td>\n",
       "    </tr>\n",
       "    <tr>\n",
       "      <th>3</th>\n",
       "      <td>Elec</td>\n",
       "      <td>Commission</td>\n",
       "      <td>kWh</td>\n",
       "      <td>12904353.0</td>\n",
       "    </tr>\n",
       "  </tbody>\n",
       "</table>\n",
       "</div>"
      ],
      "text/plain": [
       "  Utility       Owner   units       usage\n",
       "2     Gas      Tenant  Therms     49393.0\n",
       "3    Elec  Commission     kWh  12904353.0"
      ]
     },
     "execution_count": 16,
     "metadata": {},
     "output_type": "execute_result"
    }
   ],
   "source": [
    "df.iloc[2:4,3:-1]"
   ]
  },
  {
   "cell_type": "code",
   "execution_count": 17,
   "id": "273fd9ef",
   "metadata": {},
   "outputs": [],
   "source": [
    "# loc returns the data based on the column names and row indexes"
   ]
  },
  {
   "cell_type": "code",
   "execution_count": 18,
   "id": "51ee2f45",
   "metadata": {},
   "outputs": [
    {
     "data": {
      "text/plain": [
       "49393.0"
      ]
     },
     "execution_count": 18,
     "metadata": {},
     "output_type": "execute_result"
    }
   ],
   "source": [
    "df.loc[2,'usage']"
   ]
  },
  {
   "cell_type": "code",
   "execution_count": 19,
   "id": "bb909154",
   "metadata": {},
   "outputs": [
    {
     "data": {
      "text/html": [
       "<div>\n",
       "<style scoped>\n",
       "    .dataframe tbody tr th:only-of-type {\n",
       "        vertical-align: middle;\n",
       "    }\n",
       "\n",
       "    .dataframe tbody tr th {\n",
       "        vertical-align: top;\n",
       "    }\n",
       "\n",
       "    .dataframe thead th {\n",
       "        text-align: right;\n",
       "    }\n",
       "</style>\n",
       "<table border=\"1\" class=\"dataframe\">\n",
       "  <thead>\n",
       "    <tr style=\"text-align: right;\">\n",
       "      <th></th>\n",
       "      <th>Year</th>\n",
       "      <th>Month Number</th>\n",
       "      <th>Month</th>\n",
       "      <th>Utility</th>\n",
       "      <th>Owner</th>\n",
       "      <th>units</th>\n",
       "      <th>usage</th>\n",
       "      <th>Comments</th>\n",
       "    </tr>\n",
       "  </thead>\n",
       "  <tbody>\n",
       "    <tr>\n",
       "      <th>0</th>\n",
       "      <td>2013.0</td>\n",
       "      <td>NaN</td>\n",
       "      <td>Jan</td>\n",
       "      <td>Passengers</td>\n",
       "      <td>Campus</td>\n",
       "      <td>PAX</td>\n",
       "      <td>3209356.0</td>\n",
       "      <td>NaN</td>\n",
       "    </tr>\n",
       "    <tr>\n",
       "      <th>1</th>\n",
       "      <td>2013.0</td>\n",
       "      <td>1.0</td>\n",
       "      <td>Jan</td>\n",
       "      <td>Gas</td>\n",
       "      <td>Commission</td>\n",
       "      <td>Therms</td>\n",
       "      <td>363205.0</td>\n",
       "      <td>NaN</td>\n",
       "    </tr>\n",
       "    <tr>\n",
       "      <th>2</th>\n",
       "      <td>2013.0</td>\n",
       "      <td>NaN</td>\n",
       "      <td>Jan</td>\n",
       "      <td>Gas</td>\n",
       "      <td>Tenant</td>\n",
       "      <td>Therms</td>\n",
       "      <td>500000.0</td>\n",
       "      <td>NaN</td>\n",
       "    </tr>\n",
       "    <tr>\n",
       "      <th>3</th>\n",
       "      <td>NaN</td>\n",
       "      <td>1.0</td>\n",
       "      <td>Jan</td>\n",
       "      <td>Elec</td>\n",
       "      <td>Commission</td>\n",
       "      <td>kWh</td>\n",
       "      <td>12904353.0</td>\n",
       "      <td>NaN</td>\n",
       "    </tr>\n",
       "    <tr>\n",
       "      <th>4</th>\n",
       "      <td>2013.0</td>\n",
       "      <td>1.0</td>\n",
       "      <td>Jan</td>\n",
       "      <td>Electricity</td>\n",
       "      <td>Tenant</td>\n",
       "      <td>NaN</td>\n",
       "      <td>14002156.0</td>\n",
       "      <td>NaN</td>\n",
       "    </tr>\n",
       "  </tbody>\n",
       "</table>\n",
       "</div>"
      ],
      "text/plain": [
       "     Year  Month Number Month      Utility       Owner   units       usage  \\\n",
       "0  2013.0           NaN   Jan   Passengers      Campus     PAX   3209356.0   \n",
       "1  2013.0           1.0   Jan          Gas  Commission  Therms    363205.0   \n",
       "2  2013.0           NaN   Jan          Gas      Tenant  Therms    500000.0   \n",
       "3     NaN           1.0   Jan         Elec  Commission     kWh  12904353.0   \n",
       "4  2013.0           1.0   Jan  Electricity      Tenant     NaN  14002156.0   \n",
       "\n",
       "   Comments  \n",
       "0       NaN  \n",
       "1       NaN  \n",
       "2       NaN  \n",
       "3       NaN  \n",
       "4       NaN  "
      ]
     },
     "execution_count": 19,
     "metadata": {},
     "output_type": "execute_result"
    }
   ],
   "source": [
    "df.loc[2,'usage'] = 500000.0\n",
    "df.head()"
   ]
  },
  {
   "cell_type": "code",
   "execution_count": 20,
   "id": "9730e330",
   "metadata": {},
   "outputs": [
    {
     "data": {
      "text/html": [
       "<div>\n",
       "<style scoped>\n",
       "    .dataframe tbody tr th:only-of-type {\n",
       "        vertical-align: middle;\n",
       "    }\n",
       "\n",
       "    .dataframe tbody tr th {\n",
       "        vertical-align: top;\n",
       "    }\n",
       "\n",
       "    .dataframe thead th {\n",
       "        text-align: right;\n",
       "    }\n",
       "</style>\n",
       "<table border=\"1\" class=\"dataframe\">\n",
       "  <thead>\n",
       "    <tr style=\"text-align: right;\">\n",
       "      <th></th>\n",
       "      <th>units</th>\n",
       "      <th>usage</th>\n",
       "    </tr>\n",
       "  </thead>\n",
       "  <tbody>\n",
       "    <tr>\n",
       "      <th>2</th>\n",
       "      <td>Therms</td>\n",
       "      <td>500000.0</td>\n",
       "    </tr>\n",
       "    <tr>\n",
       "      <th>3</th>\n",
       "      <td>kWh</td>\n",
       "      <td>12904353.0</td>\n",
       "    </tr>\n",
       "    <tr>\n",
       "      <th>4</th>\n",
       "      <td>NaN</td>\n",
       "      <td>14002156.0</td>\n",
       "    </tr>\n",
       "  </tbody>\n",
       "</table>\n",
       "</div>"
      ],
      "text/plain": [
       "    units       usage\n",
       "2  Therms    500000.0\n",
       "3     kWh  12904353.0\n",
       "4     NaN  14002156.0"
      ]
     },
     "execution_count": 20,
     "metadata": {},
     "output_type": "execute_result"
    }
   ],
   "source": [
    "df.loc[2:4,['units','usage']]"
   ]
  },
  {
   "cell_type": "code",
   "execution_count": 21,
   "id": "7530bd9d",
   "metadata": {},
   "outputs": [
    {
     "data": {
      "text/html": [
       "<div>\n",
       "<style scoped>\n",
       "    .dataframe tbody tr th:only-of-type {\n",
       "        vertical-align: middle;\n",
       "    }\n",
       "\n",
       "    .dataframe tbody tr th {\n",
       "        vertical-align: top;\n",
       "    }\n",
       "\n",
       "    .dataframe thead th {\n",
       "        text-align: right;\n",
       "    }\n",
       "</style>\n",
       "<table border=\"1\" class=\"dataframe\">\n",
       "  <thead>\n",
       "    <tr style=\"text-align: right;\">\n",
       "      <th></th>\n",
       "      <th>Year</th>\n",
       "      <th>Month Number</th>\n",
       "      <th>Month</th>\n",
       "      <th>Utility</th>\n",
       "      <th>Owner</th>\n",
       "      <th>units</th>\n",
       "      <th>usage</th>\n",
       "      <th>Comments</th>\n",
       "    </tr>\n",
       "  </thead>\n",
       "  <tbody>\n",
       "    <tr>\n",
       "      <th>2</th>\n",
       "      <td>2013.0</td>\n",
       "      <td>NaN</td>\n",
       "      <td>Jan</td>\n",
       "      <td>Gas</td>\n",
       "      <td>Tenant</td>\n",
       "      <td>Therms</td>\n",
       "      <td>500000.0</td>\n",
       "      <td>NaN</td>\n",
       "    </tr>\n",
       "    <tr>\n",
       "      <th>3</th>\n",
       "      <td>NaN</td>\n",
       "      <td>1.0</td>\n",
       "      <td>Jan</td>\n",
       "      <td>Elec</td>\n",
       "      <td>Commission</td>\n",
       "      <td>kWh</td>\n",
       "      <td>12904353.0</td>\n",
       "      <td>NaN</td>\n",
       "    </tr>\n",
       "    <tr>\n",
       "      <th>4</th>\n",
       "      <td>2013.0</td>\n",
       "      <td>1.0</td>\n",
       "      <td>Jan</td>\n",
       "      <td>Electricity</td>\n",
       "      <td>Tenant</td>\n",
       "      <td>NaN</td>\n",
       "      <td>14002156.0</td>\n",
       "      <td>NaN</td>\n",
       "    </tr>\n",
       "  </tbody>\n",
       "</table>\n",
       "</div>"
      ],
      "text/plain": [
       "     Year  Month Number Month      Utility       Owner   units       usage  \\\n",
       "2  2013.0           NaN   Jan          Gas      Tenant  Therms    500000.0   \n",
       "3     NaN           1.0   Jan         Elec  Commission     kWh  12904353.0   \n",
       "4  2013.0           1.0   Jan  Electricity      Tenant     NaN  14002156.0   \n",
       "\n",
       "   Comments  \n",
       "2       NaN  \n",
       "3       NaN  \n",
       "4       NaN  "
      ]
     },
     "execution_count": 21,
     "metadata": {},
     "output_type": "execute_result"
    }
   ],
   "source": [
    "df.loc[2:4,:]"
   ]
  },
  {
   "cell_type": "code",
   "execution_count": 22,
   "id": "d6aac372",
   "metadata": {},
   "outputs": [
    {
     "data": {
      "text/html": [
       "<div>\n",
       "<style scoped>\n",
       "    .dataframe tbody tr th:only-of-type {\n",
       "        vertical-align: middle;\n",
       "    }\n",
       "\n",
       "    .dataframe tbody tr th {\n",
       "        vertical-align: top;\n",
       "    }\n",
       "\n",
       "    .dataframe thead th {\n",
       "        text-align: right;\n",
       "    }\n",
       "</style>\n",
       "<table border=\"1\" class=\"dataframe\">\n",
       "  <thead>\n",
       "    <tr style=\"text-align: right;\">\n",
       "      <th></th>\n",
       "      <th>Year</th>\n",
       "      <th>Month Number</th>\n",
       "      <th>Month</th>\n",
       "      <th>Utility</th>\n",
       "      <th>Owner</th>\n",
       "      <th>units</th>\n",
       "      <th>usage</th>\n",
       "      <th>Comments</th>\n",
       "    </tr>\n",
       "  </thead>\n",
       "  <tbody>\n",
       "    <tr>\n",
       "      <th>0</th>\n",
       "      <td>2013.0</td>\n",
       "      <td>NaN</td>\n",
       "      <td>Jan</td>\n",
       "      <td>Passengers</td>\n",
       "      <td>Campus</td>\n",
       "      <td>PAX</td>\n",
       "      <td>3209356.0</td>\n",
       "      <td>NaN</td>\n",
       "    </tr>\n",
       "    <tr>\n",
       "      <th>3</th>\n",
       "      <td>NaN</td>\n",
       "      <td>1.0</td>\n",
       "      <td>Jan</td>\n",
       "      <td>Elec</td>\n",
       "      <td>Commission</td>\n",
       "      <td>kWh</td>\n",
       "      <td>12904353.0</td>\n",
       "      <td>NaN</td>\n",
       "    </tr>\n",
       "    <tr>\n",
       "      <th>4</th>\n",
       "      <td>2013.0</td>\n",
       "      <td>1.0</td>\n",
       "      <td>Jan</td>\n",
       "      <td>Electricity</td>\n",
       "      <td>Tenant</td>\n",
       "      <td>NaN</td>\n",
       "      <td>14002156.0</td>\n",
       "      <td>NaN</td>\n",
       "    </tr>\n",
       "    <tr>\n",
       "      <th>7</th>\n",
       "      <td>2013.0</td>\n",
       "      <td>2.0</td>\n",
       "      <td>Feb</td>\n",
       "      <td>Passengers</td>\n",
       "      <td>Campus</td>\n",
       "      <td>PAX</td>\n",
       "      <td>2968951.0</td>\n",
       "      <td>NaN</td>\n",
       "    </tr>\n",
       "    <tr>\n",
       "      <th>11</th>\n",
       "      <td>2013.0</td>\n",
       "      <td>2.0</td>\n",
       "      <td>Feb</td>\n",
       "      <td>Electricity</td>\n",
       "      <td>Tenant</td>\n",
       "      <td>kWh</td>\n",
       "      <td>12631776.0</td>\n",
       "      <td>NaN</td>\n",
       "    </tr>\n",
       "  </tbody>\n",
       "</table>\n",
       "</div>"
      ],
      "text/plain": [
       "      Year  Month Number Month      Utility       Owner units       usage  \\\n",
       "0   2013.0           NaN   Jan   Passengers      Campus   PAX   3209356.0   \n",
       "3      NaN           1.0   Jan         Elec  Commission   kWh  12904353.0   \n",
       "4   2013.0           1.0   Jan  Electricity      Tenant   NaN  14002156.0   \n",
       "7   2013.0           2.0   Feb   Passengers      Campus   PAX   2968951.0   \n",
       "11  2013.0           2.0   Feb  Electricity      Tenant   kWh  12631776.0   \n",
       "\n",
       "    Comments  \n",
       "0        NaN  \n",
       "3        NaN  \n",
       "4        NaN  \n",
       "7        NaN  \n",
       "11       NaN  "
      ]
     },
     "execution_count": 22,
     "metadata": {},
     "output_type": "execute_result"
    }
   ],
   "source": [
    "# Using loc with a condition\n",
    "df.loc[df['usage'] >= 1000000].head()"
   ]
  },
  {
   "cell_type": "code",
   "execution_count": 23,
   "id": "0be91b30",
   "metadata": {},
   "outputs": [
    {
     "data": {
      "text/html": [
       "<div>\n",
       "<style scoped>\n",
       "    .dataframe tbody tr th:only-of-type {\n",
       "        vertical-align: middle;\n",
       "    }\n",
       "\n",
       "    .dataframe tbody tr th {\n",
       "        vertical-align: top;\n",
       "    }\n",
       "\n",
       "    .dataframe thead th {\n",
       "        text-align: right;\n",
       "    }\n",
       "</style>\n",
       "<table border=\"1\" class=\"dataframe\">\n",
       "  <thead>\n",
       "    <tr style=\"text-align: right;\">\n",
       "      <th></th>\n",
       "      <th>Year</th>\n",
       "      <th>Month Number</th>\n",
       "      <th>Month</th>\n",
       "      <th>Utility</th>\n",
       "      <th>Owner</th>\n",
       "      <th>units</th>\n",
       "      <th>usage</th>\n",
       "      <th>Comments</th>\n",
       "    </tr>\n",
       "  </thead>\n",
       "  <tbody>\n",
       "    <tr>\n",
       "      <th>4</th>\n",
       "      <td>2013.0</td>\n",
       "      <td>1.0</td>\n",
       "      <td>Jan</td>\n",
       "      <td>Electricity</td>\n",
       "      <td>Tenant</td>\n",
       "      <td>NaN</td>\n",
       "      <td>14002156.0</td>\n",
       "      <td>NaN</td>\n",
       "    </tr>\n",
       "    <tr>\n",
       "      <th>11</th>\n",
       "      <td>2013.0</td>\n",
       "      <td>2.0</td>\n",
       "      <td>Feb</td>\n",
       "      <td>Electricity</td>\n",
       "      <td>Tenant</td>\n",
       "      <td>kWh</td>\n",
       "      <td>12631776.0</td>\n",
       "      <td>NaN</td>\n",
       "    </tr>\n",
       "    <tr>\n",
       "      <th>18</th>\n",
       "      <td>2013.0</td>\n",
       "      <td>3.0</td>\n",
       "      <td>Mar</td>\n",
       "      <td>Electricity</td>\n",
       "      <td>Tenant</td>\n",
       "      <td>kWh</td>\n",
       "      <td>13894596.0</td>\n",
       "      <td>NaN</td>\n",
       "    </tr>\n",
       "    <tr>\n",
       "      <th>24</th>\n",
       "      <td>2013.0</td>\n",
       "      <td>4.0</td>\n",
       "      <td>Apr</td>\n",
       "      <td>Electricity</td>\n",
       "      <td>Commission</td>\n",
       "      <td>kWh</td>\n",
       "      <td>13477167.0</td>\n",
       "      <td>NaN</td>\n",
       "    </tr>\n",
       "    <tr>\n",
       "      <th>25</th>\n",
       "      <td>2013.0</td>\n",
       "      <td>4.0</td>\n",
       "      <td>Apr</td>\n",
       "      <td>Electricity</td>\n",
       "      <td>Tenant</td>\n",
       "      <td>kWh</td>\n",
       "      <td>NaN</td>\n",
       "      <td>NaN</td>\n",
       "    </tr>\n",
       "  </tbody>\n",
       "</table>\n",
       "</div>"
      ],
      "text/plain": [
       "      Year  Month Number Month      Utility       Owner units       usage  \\\n",
       "4   2013.0           1.0   Jan  Electricity      Tenant   NaN  14002156.0   \n",
       "11  2013.0           2.0   Feb  Electricity      Tenant   kWh  12631776.0   \n",
       "18  2013.0           3.0   Mar  Electricity      Tenant   kWh  13894596.0   \n",
       "24  2013.0           4.0   Apr  Electricity  Commission   kWh  13477167.0   \n",
       "25  2013.0           4.0   Apr  Electricity      Tenant   kWh         NaN   \n",
       "\n",
       "    Comments  \n",
       "4        NaN  \n",
       "11       NaN  \n",
       "18       NaN  \n",
       "24       NaN  \n",
       "25       NaN  "
      ]
     },
     "execution_count": 23,
     "metadata": {},
     "output_type": "execute_result"
    }
   ],
   "source": [
    "# Using loc with a condition\n",
    "df.loc[df['Utility'] == 'Electricity'].head()"
   ]
  },
  {
   "cell_type": "code",
   "execution_count": 24,
   "id": "891a8dbe",
   "metadata": {},
   "outputs": [
    {
     "data": {
      "text/html": [
       "<div>\n",
       "<style scoped>\n",
       "    .dataframe tbody tr th:only-of-type {\n",
       "        vertical-align: middle;\n",
       "    }\n",
       "\n",
       "    .dataframe tbody tr th {\n",
       "        vertical-align: top;\n",
       "    }\n",
       "\n",
       "    .dataframe thead th {\n",
       "        text-align: right;\n",
       "    }\n",
       "</style>\n",
       "<table border=\"1\" class=\"dataframe\">\n",
       "  <thead>\n",
       "    <tr style=\"text-align: right;\">\n",
       "      <th></th>\n",
       "      <th>Year</th>\n",
       "      <th>Month Number</th>\n",
       "      <th>Month</th>\n",
       "      <th>Utility</th>\n",
       "      <th>Owner</th>\n",
       "      <th>units</th>\n",
       "      <th>usage</th>\n",
       "      <th>Comments</th>\n",
       "    </tr>\n",
       "  </thead>\n",
       "  <tbody>\n",
       "    <tr>\n",
       "      <th>4</th>\n",
       "      <td>2013.0</td>\n",
       "      <td>1.0</td>\n",
       "      <td>Jan</td>\n",
       "      <td>Electricity</td>\n",
       "      <td>Tenant</td>\n",
       "      <td>NaN</td>\n",
       "      <td>14002156.0</td>\n",
       "      <td>NaN</td>\n",
       "    </tr>\n",
       "    <tr>\n",
       "      <th>11</th>\n",
       "      <td>2013.0</td>\n",
       "      <td>2.0</td>\n",
       "      <td>Feb</td>\n",
       "      <td>Electricity</td>\n",
       "      <td>Tenant</td>\n",
       "      <td>kWh</td>\n",
       "      <td>12631776.0</td>\n",
       "      <td>NaN</td>\n",
       "    </tr>\n",
       "    <tr>\n",
       "      <th>18</th>\n",
       "      <td>2013.0</td>\n",
       "      <td>3.0</td>\n",
       "      <td>Mar</td>\n",
       "      <td>Electricity</td>\n",
       "      <td>Tenant</td>\n",
       "      <td>kWh</td>\n",
       "      <td>13894596.0</td>\n",
       "      <td>NaN</td>\n",
       "    </tr>\n",
       "    <tr>\n",
       "      <th>24</th>\n",
       "      <td>2013.0</td>\n",
       "      <td>4.0</td>\n",
       "      <td>Apr</td>\n",
       "      <td>Electricity</td>\n",
       "      <td>Commission</td>\n",
       "      <td>kWh</td>\n",
       "      <td>13477167.0</td>\n",
       "      <td>NaN</td>\n",
       "    </tr>\n",
       "    <tr>\n",
       "      <th>31</th>\n",
       "      <td>2013.0</td>\n",
       "      <td>5.0</td>\n",
       "      <td>May</td>\n",
       "      <td>Electricity</td>\n",
       "      <td>Commission</td>\n",
       "      <td>kWh</td>\n",
       "      <td>14525147.0</td>\n",
       "      <td>NaN</td>\n",
       "    </tr>\n",
       "  </tbody>\n",
       "</table>\n",
       "</div>"
      ],
      "text/plain": [
       "      Year  Month Number Month      Utility       Owner units       usage  \\\n",
       "4   2013.0           1.0   Jan  Electricity      Tenant   NaN  14002156.0   \n",
       "11  2013.0           2.0   Feb  Electricity      Tenant   kWh  12631776.0   \n",
       "18  2013.0           3.0   Mar  Electricity      Tenant   kWh  13894596.0   \n",
       "24  2013.0           4.0   Apr  Electricity  Commission   kWh  13477167.0   \n",
       "31  2013.0           5.0   May  Electricity  Commission   kWh  14525147.0   \n",
       "\n",
       "    Comments  \n",
       "4        NaN  \n",
       "11       NaN  \n",
       "18       NaN  \n",
       "24       NaN  \n",
       "31       NaN  "
      ]
     },
     "execution_count": 24,
     "metadata": {},
     "output_type": "execute_result"
    }
   ],
   "source": [
    "# Using loc with multiple conditions\n",
    "df.loc[(df['Utility'] == 'Electricity') & (df['usage'] > 1000000)].head()"
   ]
  },
  {
   "cell_type": "code",
   "execution_count": 25,
   "id": "65d5dd98",
   "metadata": {},
   "outputs": [
    {
     "data": {
      "text/html": [
       "<div>\n",
       "<style scoped>\n",
       "    .dataframe tbody tr th:only-of-type {\n",
       "        vertical-align: middle;\n",
       "    }\n",
       "\n",
       "    .dataframe tbody tr th {\n",
       "        vertical-align: top;\n",
       "    }\n",
       "\n",
       "    .dataframe thead th {\n",
       "        text-align: right;\n",
       "    }\n",
       "</style>\n",
       "<table border=\"1\" class=\"dataframe\">\n",
       "  <thead>\n",
       "    <tr style=\"text-align: right;\">\n",
       "      <th></th>\n",
       "      <th>Year</th>\n",
       "      <th>Utility</th>\n",
       "      <th>usage</th>\n",
       "    </tr>\n",
       "  </thead>\n",
       "  <tbody>\n",
       "    <tr>\n",
       "      <th>4</th>\n",
       "      <td>2013.0</td>\n",
       "      <td>Electricity</td>\n",
       "      <td>14002156.0</td>\n",
       "    </tr>\n",
       "    <tr>\n",
       "      <th>11</th>\n",
       "      <td>2013.0</td>\n",
       "      <td>Electricity</td>\n",
       "      <td>12631776.0</td>\n",
       "    </tr>\n",
       "    <tr>\n",
       "      <th>18</th>\n",
       "      <td>2013.0</td>\n",
       "      <td>Electricity</td>\n",
       "      <td>13894596.0</td>\n",
       "    </tr>\n",
       "    <tr>\n",
       "      <th>24</th>\n",
       "      <td>2013.0</td>\n",
       "      <td>Electricity</td>\n",
       "      <td>13477167.0</td>\n",
       "    </tr>\n",
       "    <tr>\n",
       "      <th>31</th>\n",
       "      <td>2013.0</td>\n",
       "      <td>Electricity</td>\n",
       "      <td>14525147.0</td>\n",
       "    </tr>\n",
       "  </tbody>\n",
       "</table>\n",
       "</div>"
      ],
      "text/plain": [
       "      Year      Utility       usage\n",
       "4   2013.0  Electricity  14002156.0\n",
       "11  2013.0  Electricity  12631776.0\n",
       "18  2013.0  Electricity  13894596.0\n",
       "24  2013.0  Electricity  13477167.0\n",
       "31  2013.0  Electricity  14525147.0"
      ]
     },
     "execution_count": 25,
     "metadata": {},
     "output_type": "execute_result"
    }
   ],
   "source": [
    "# Using loc with multiple conditions\n",
    "df.loc[(df['Utility'] == 'Electricity') & (df['usage'] > 1000000), ['Year','Utility','usage']].head()"
   ]
  },
  {
   "cell_type": "markdown",
   "id": "17ce9580",
   "metadata": {},
   "source": [
    "## Cleaning Data"
   ]
  },
  {
   "cell_type": "code",
   "execution_count": 26,
   "id": "87591f2b",
   "metadata": {},
   "outputs": [
    {
     "data": {
      "text/plain": [
       "Year             32\n",
       "Month Number     23\n",
       "Month            31\n",
       "Utility          24\n",
       "Owner            30\n",
       "units            26\n",
       "usage            30\n",
       "Comments        560\n",
       "dtype: int64"
      ]
     },
     "execution_count": 26,
     "metadata": {},
     "output_type": "execute_result"
    }
   ],
   "source": [
    "df.isnull().sum()"
   ]
  },
  {
   "cell_type": "code",
   "execution_count": 27,
   "id": "361233bc",
   "metadata": {},
   "outputs": [
    {
     "data": {
      "text/html": [
       "<div>\n",
       "<style scoped>\n",
       "    .dataframe tbody tr th:only-of-type {\n",
       "        vertical-align: middle;\n",
       "    }\n",
       "\n",
       "    .dataframe tbody tr th {\n",
       "        vertical-align: top;\n",
       "    }\n",
       "\n",
       "    .dataframe thead th {\n",
       "        text-align: right;\n",
       "    }\n",
       "</style>\n",
       "<table border=\"1\" class=\"dataframe\">\n",
       "  <thead>\n",
       "    <tr style=\"text-align: right;\">\n",
       "      <th></th>\n",
       "      <th>Year</th>\n",
       "      <th>Month Number</th>\n",
       "      <th>Month</th>\n",
       "      <th>Utility</th>\n",
       "      <th>Owner</th>\n",
       "      <th>units</th>\n",
       "      <th>usage</th>\n",
       "    </tr>\n",
       "  </thead>\n",
       "  <tbody>\n",
       "    <tr>\n",
       "      <th>0</th>\n",
       "      <td>2013.0</td>\n",
       "      <td>NaN</td>\n",
       "      <td>Jan</td>\n",
       "      <td>Passengers</td>\n",
       "      <td>Campus</td>\n",
       "      <td>PAX</td>\n",
       "      <td>3209356.0</td>\n",
       "    </tr>\n",
       "    <tr>\n",
       "      <th>1</th>\n",
       "      <td>2013.0</td>\n",
       "      <td>1.0</td>\n",
       "      <td>Jan</td>\n",
       "      <td>Gas</td>\n",
       "      <td>Commission</td>\n",
       "      <td>Therms</td>\n",
       "      <td>363205.0</td>\n",
       "    </tr>\n",
       "    <tr>\n",
       "      <th>2</th>\n",
       "      <td>2013.0</td>\n",
       "      <td>NaN</td>\n",
       "      <td>Jan</td>\n",
       "      <td>Gas</td>\n",
       "      <td>Tenant</td>\n",
       "      <td>Therms</td>\n",
       "      <td>500000.0</td>\n",
       "    </tr>\n",
       "    <tr>\n",
       "      <th>3</th>\n",
       "      <td>NaN</td>\n",
       "      <td>1.0</td>\n",
       "      <td>Jan</td>\n",
       "      <td>Elec</td>\n",
       "      <td>Commission</td>\n",
       "      <td>kWh</td>\n",
       "      <td>12904353.0</td>\n",
       "    </tr>\n",
       "    <tr>\n",
       "      <th>4</th>\n",
       "      <td>2013.0</td>\n",
       "      <td>1.0</td>\n",
       "      <td>Jan</td>\n",
       "      <td>Electricity</td>\n",
       "      <td>Tenant</td>\n",
       "      <td>NaN</td>\n",
       "      <td>14002156.0</td>\n",
       "    </tr>\n",
       "  </tbody>\n",
       "</table>\n",
       "</div>"
      ],
      "text/plain": [
       "     Year  Month Number Month      Utility       Owner   units       usage\n",
       "0  2013.0           NaN   Jan   Passengers      Campus     PAX   3209356.0\n",
       "1  2013.0           1.0   Jan          Gas  Commission  Therms    363205.0\n",
       "2  2013.0           NaN   Jan          Gas      Tenant  Therms    500000.0\n",
       "3     NaN           1.0   Jan         Elec  Commission     kWh  12904353.0\n",
       "4  2013.0           1.0   Jan  Electricity      Tenant     NaN  14002156.0"
      ]
     },
     "execution_count": 27,
     "metadata": {},
     "output_type": "execute_result"
    }
   ],
   "source": [
    "# Drop a column\n",
    "df = df.drop('Comments', axis=1)\n",
    "df.head()"
   ]
  },
  {
   "cell_type": "code",
   "execution_count": 28,
   "id": "dc143d4e",
   "metadata": {},
   "outputs": [
    {
     "data": {
      "text/html": [
       "<div>\n",
       "<style scoped>\n",
       "    .dataframe tbody tr th:only-of-type {\n",
       "        vertical-align: middle;\n",
       "    }\n",
       "\n",
       "    .dataframe tbody tr th {\n",
       "        vertical-align: top;\n",
       "    }\n",
       "\n",
       "    .dataframe thead th {\n",
       "        text-align: right;\n",
       "    }\n",
       "</style>\n",
       "<table border=\"1\" class=\"dataframe\">\n",
       "  <thead>\n",
       "    <tr style=\"text-align: right;\">\n",
       "      <th></th>\n",
       "      <th>Year</th>\n",
       "      <th>Utility</th>\n",
       "      <th>units</th>\n",
       "      <th>usage</th>\n",
       "    </tr>\n",
       "  </thead>\n",
       "  <tbody>\n",
       "    <tr>\n",
       "      <th>0</th>\n",
       "      <td>2013.0</td>\n",
       "      <td>Passengers</td>\n",
       "      <td>PAX</td>\n",
       "      <td>3209356.0</td>\n",
       "    </tr>\n",
       "    <tr>\n",
       "      <th>1</th>\n",
       "      <td>2013.0</td>\n",
       "      <td>Gas</td>\n",
       "      <td>Therms</td>\n",
       "      <td>363205.0</td>\n",
       "    </tr>\n",
       "    <tr>\n",
       "      <th>2</th>\n",
       "      <td>2013.0</td>\n",
       "      <td>Gas</td>\n",
       "      <td>Therms</td>\n",
       "      <td>500000.0</td>\n",
       "    </tr>\n",
       "    <tr>\n",
       "      <th>3</th>\n",
       "      <td>NaN</td>\n",
       "      <td>Elec</td>\n",
       "      <td>kWh</td>\n",
       "      <td>12904353.0</td>\n",
       "    </tr>\n",
       "    <tr>\n",
       "      <th>4</th>\n",
       "      <td>2013.0</td>\n",
       "      <td>Electricity</td>\n",
       "      <td>NaN</td>\n",
       "      <td>14002156.0</td>\n",
       "    </tr>\n",
       "  </tbody>\n",
       "</table>\n",
       "</div>"
      ],
      "text/plain": [
       "     Year      Utility   units       usage\n",
       "0  2013.0   Passengers     PAX   3209356.0\n",
       "1  2013.0          Gas  Therms    363205.0\n",
       "2  2013.0          Gas  Therms    500000.0\n",
       "3     NaN         Elec     kWh  12904353.0\n",
       "4  2013.0  Electricity     NaN  14002156.0"
      ]
     },
     "execution_count": 28,
     "metadata": {},
     "output_type": "execute_result"
    }
   ],
   "source": [
    "# Choosing columns to work with\n",
    "df = df[['Year', 'Utility', 'units', 'usage']]\n",
    "df.head()"
   ]
  },
  {
   "cell_type": "code",
   "execution_count": 29,
   "id": "b9dd29d5",
   "metadata": {},
   "outputs": [
    {
     "data": {
      "text/html": [
       "<div>\n",
       "<style scoped>\n",
       "    .dataframe tbody tr th:only-of-type {\n",
       "        vertical-align: middle;\n",
       "    }\n",
       "\n",
       "    .dataframe tbody tr th {\n",
       "        vertical-align: top;\n",
       "    }\n",
       "\n",
       "    .dataframe thead th {\n",
       "        text-align: right;\n",
       "    }\n",
       "</style>\n",
       "<table border=\"1\" class=\"dataframe\">\n",
       "  <thead>\n",
       "    <tr style=\"text-align: right;\">\n",
       "      <th></th>\n",
       "      <th>Utility</th>\n",
       "      <th>units</th>\n",
       "      <th>usage</th>\n",
       "    </tr>\n",
       "    <tr>\n",
       "      <th>Year</th>\n",
       "      <th></th>\n",
       "      <th></th>\n",
       "      <th></th>\n",
       "    </tr>\n",
       "  </thead>\n",
       "  <tbody>\n",
       "    <tr>\n",
       "      <th>2013.0</th>\n",
       "      <td>Passengers</td>\n",
       "      <td>PAX</td>\n",
       "      <td>3209356.0</td>\n",
       "    </tr>\n",
       "    <tr>\n",
       "      <th>2013.0</th>\n",
       "      <td>Gas</td>\n",
       "      <td>Therms</td>\n",
       "      <td>363205.0</td>\n",
       "    </tr>\n",
       "    <tr>\n",
       "      <th>2013.0</th>\n",
       "      <td>Gas</td>\n",
       "      <td>Therms</td>\n",
       "      <td>500000.0</td>\n",
       "    </tr>\n",
       "    <tr>\n",
       "      <th>NaN</th>\n",
       "      <td>Elec</td>\n",
       "      <td>kWh</td>\n",
       "      <td>12904353.0</td>\n",
       "    </tr>\n",
       "    <tr>\n",
       "      <th>2013.0</th>\n",
       "      <td>Electricity</td>\n",
       "      <td>NaN</td>\n",
       "      <td>14002156.0</td>\n",
       "    </tr>\n",
       "  </tbody>\n",
       "</table>\n",
       "</div>"
      ],
      "text/plain": [
       "            Utility   units       usage\n",
       "Year                                   \n",
       "2013.0   Passengers     PAX   3209356.0\n",
       "2013.0          Gas  Therms    363205.0\n",
       "2013.0          Gas  Therms    500000.0\n",
       "NaN            Elec     kWh  12904353.0\n",
       "2013.0  Electricity     NaN  14002156.0"
      ]
     },
     "execution_count": 29,
     "metadata": {},
     "output_type": "execute_result"
    }
   ],
   "source": [
    "# Setting a new index\n",
    "df = df.set_index('Year') # set it to year\n",
    "df.head()"
   ]
  },
  {
   "cell_type": "code",
   "execution_count": 30,
   "id": "dbf222a8",
   "metadata": {},
   "outputs": [
    {
     "data": {
      "text/html": [
       "<div>\n",
       "<style scoped>\n",
       "    .dataframe tbody tr th:only-of-type {\n",
       "        vertical-align: middle;\n",
       "    }\n",
       "\n",
       "    .dataframe tbody tr th {\n",
       "        vertical-align: top;\n",
       "    }\n",
       "\n",
       "    .dataframe thead th {\n",
       "        text-align: right;\n",
       "    }\n",
       "</style>\n",
       "<table border=\"1\" class=\"dataframe\">\n",
       "  <thead>\n",
       "    <tr style=\"text-align: right;\">\n",
       "      <th></th>\n",
       "      <th>Year</th>\n",
       "      <th>Utility</th>\n",
       "      <th>units</th>\n",
       "      <th>usage</th>\n",
       "    </tr>\n",
       "  </thead>\n",
       "  <tbody>\n",
       "    <tr>\n",
       "      <th>0</th>\n",
       "      <td>2013.0</td>\n",
       "      <td>Passengers</td>\n",
       "      <td>PAX</td>\n",
       "      <td>3209356.0</td>\n",
       "    </tr>\n",
       "    <tr>\n",
       "      <th>1</th>\n",
       "      <td>2013.0</td>\n",
       "      <td>Gas</td>\n",
       "      <td>Therms</td>\n",
       "      <td>363205.0</td>\n",
       "    </tr>\n",
       "    <tr>\n",
       "      <th>2</th>\n",
       "      <td>2013.0</td>\n",
       "      <td>Gas</td>\n",
       "      <td>Therms</td>\n",
       "      <td>500000.0</td>\n",
       "    </tr>\n",
       "    <tr>\n",
       "      <th>3</th>\n",
       "      <td>NaN</td>\n",
       "      <td>Elec</td>\n",
       "      <td>kWh</td>\n",
       "      <td>12904353.0</td>\n",
       "    </tr>\n",
       "    <tr>\n",
       "      <th>4</th>\n",
       "      <td>2013.0</td>\n",
       "      <td>Electricity</td>\n",
       "      <td>NaN</td>\n",
       "      <td>14002156.0</td>\n",
       "    </tr>\n",
       "  </tbody>\n",
       "</table>\n",
       "</div>"
      ],
      "text/plain": [
       "     Year      Utility   units       usage\n",
       "0  2013.0   Passengers     PAX   3209356.0\n",
       "1  2013.0          Gas  Therms    363205.0\n",
       "2  2013.0          Gas  Therms    500000.0\n",
       "3     NaN         Elec     kWh  12904353.0\n",
       "4  2013.0  Electricity     NaN  14002156.0"
      ]
     },
     "execution_count": 30,
     "metadata": {},
     "output_type": "execute_result"
    }
   ],
   "source": [
    "# Reset the index\n",
    "df = df.reset_index(drop=False)\n",
    "df.head()"
   ]
  },
  {
   "cell_type": "code",
   "execution_count": 31,
   "id": "1160f205",
   "metadata": {},
   "outputs": [
    {
     "data": {
      "text/html": [
       "<div>\n",
       "<style scoped>\n",
       "    .dataframe tbody tr th:only-of-type {\n",
       "        vertical-align: middle;\n",
       "    }\n",
       "\n",
       "    .dataframe tbody tr th {\n",
       "        vertical-align: top;\n",
       "    }\n",
       "\n",
       "    .dataframe thead th {\n",
       "        text-align: right;\n",
       "    }\n",
       "</style>\n",
       "<table border=\"1\" class=\"dataframe\">\n",
       "  <thead>\n",
       "    <tr style=\"text-align: right;\">\n",
       "      <th></th>\n",
       "      <th>Year</th>\n",
       "      <th>Utility</th>\n",
       "      <th>Units</th>\n",
       "      <th>Usage</th>\n",
       "    </tr>\n",
       "  </thead>\n",
       "  <tbody>\n",
       "    <tr>\n",
       "      <th>0</th>\n",
       "      <td>2013.0</td>\n",
       "      <td>Passengers</td>\n",
       "      <td>PAX</td>\n",
       "      <td>3209356.0</td>\n",
       "    </tr>\n",
       "    <tr>\n",
       "      <th>1</th>\n",
       "      <td>2013.0</td>\n",
       "      <td>Gas</td>\n",
       "      <td>Therms</td>\n",
       "      <td>363205.0</td>\n",
       "    </tr>\n",
       "    <tr>\n",
       "      <th>2</th>\n",
       "      <td>2013.0</td>\n",
       "      <td>Gas</td>\n",
       "      <td>Therms</td>\n",
       "      <td>500000.0</td>\n",
       "    </tr>\n",
       "    <tr>\n",
       "      <th>3</th>\n",
       "      <td>NaN</td>\n",
       "      <td>Elec</td>\n",
       "      <td>kWh</td>\n",
       "      <td>12904353.0</td>\n",
       "    </tr>\n",
       "    <tr>\n",
       "      <th>4</th>\n",
       "      <td>2013.0</td>\n",
       "      <td>Electricity</td>\n",
       "      <td>NaN</td>\n",
       "      <td>14002156.0</td>\n",
       "    </tr>\n",
       "  </tbody>\n",
       "</table>\n",
       "</div>"
      ],
      "text/plain": [
       "     Year      Utility   Units       Usage\n",
       "0  2013.0   Passengers     PAX   3209356.0\n",
       "1  2013.0          Gas  Therms    363205.0\n",
       "2  2013.0          Gas  Therms    500000.0\n",
       "3     NaN         Elec     kWh  12904353.0\n",
       "4  2013.0  Electricity     NaN  14002156.0"
      ]
     },
     "execution_count": 31,
     "metadata": {},
     "output_type": "execute_result"
    }
   ],
   "source": [
    "# Renaming columns\n",
    "df = df.rename(columns={'units': 'Units', 'usage': 'Usage'})\n",
    "df.head()"
   ]
  },
  {
   "cell_type": "code",
   "execution_count": 32,
   "id": "0c032e27",
   "metadata": {},
   "outputs": [
    {
     "data": {
      "text/plain": [
       "Year       32\n",
       "Utility    24\n",
       "Units      26\n",
       "Usage      30\n",
       "dtype: int64"
      ]
     },
     "execution_count": 32,
     "metadata": {},
     "output_type": "execute_result"
    }
   ],
   "source": [
    "# Null values\n",
    "df.isnull().sum()"
   ]
  },
  {
   "cell_type": "code",
   "execution_count": 33,
   "id": "ffaa4827",
   "metadata": {},
   "outputs": [
    {
     "data": {
      "text/plain": [
       "Year        0\n",
       "Utility    24\n",
       "Units      26\n",
       "Usage      30\n",
       "dtype: int64"
      ]
     },
     "execution_count": 33,
     "metadata": {},
     "output_type": "execute_result"
    }
   ],
   "source": [
    "# Fill null values\n",
    "df['Year'] = df['Year'].fillna('2013')\n",
    "df.isnull().sum()"
   ]
  },
  {
   "cell_type": "code",
   "execution_count": 34,
   "id": "2a1d38bd",
   "metadata": {},
   "outputs": [
    {
     "data": {
      "text/plain": [
       "Year       0\n",
       "Utility    0\n",
       "Units      0\n",
       "Usage      0\n",
       "dtype: int64"
      ]
     },
     "execution_count": 34,
     "metadata": {},
     "output_type": "execute_result"
    }
   ],
   "source": [
    "# Drop null values\n",
    "df = df.dropna(how='any')\n",
    "df.isnull().sum()"
   ]
  },
  {
   "cell_type": "code",
   "execution_count": 35,
   "id": "d9af1b13",
   "metadata": {},
   "outputs": [
    {
     "data": {
      "text/plain": [
       "array(['Passengers', 'Gas', 'Elec', 'Water', 'Electricity'], dtype=object)"
      ]
     },
     "execution_count": 35,
     "metadata": {},
     "output_type": "execute_result"
    }
   ],
   "source": [
    "# Unique value\n",
    "df['Utility'].unique()"
   ]
  },
  {
   "cell_type": "code",
   "execution_count": 36,
   "id": "6994e9b8",
   "metadata": {},
   "outputs": [
    {
     "data": {
      "text/plain": [
       "5"
      ]
     },
     "execution_count": 36,
     "metadata": {},
     "output_type": "execute_result"
    }
   ],
   "source": [
    "# Number of unique values\n",
    "df['Utility'].nunique()"
   ]
  },
  {
   "cell_type": "code",
   "execution_count": 37,
   "id": "527a1ba2",
   "metadata": {},
   "outputs": [
    {
     "data": {
      "text/plain": [
       "Utility\n",
       "Gas            141\n",
       "Water          139\n",
       "Electricity    136\n",
       "Passengers      64\n",
       "Elec             1\n",
       "Name: count, dtype: int64"
      ]
     },
     "execution_count": 37,
     "metadata": {},
     "output_type": "execute_result"
    }
   ],
   "source": [
    "# Value counts\n",
    "df['Utility'].value_counts()"
   ]
  },
  {
   "cell_type": "code",
   "execution_count": 38,
   "id": "a171896d",
   "metadata": {},
   "outputs": [
    {
     "data": {
      "text/html": [
       "<div>\n",
       "<style scoped>\n",
       "    .dataframe tbody tr th:only-of-type {\n",
       "        vertical-align: middle;\n",
       "    }\n",
       "\n",
       "    .dataframe tbody tr th {\n",
       "        vertical-align: top;\n",
       "    }\n",
       "\n",
       "    .dataframe thead th {\n",
       "        text-align: right;\n",
       "    }\n",
       "</style>\n",
       "<table border=\"1\" class=\"dataframe\">\n",
       "  <thead>\n",
       "    <tr style=\"text-align: right;\">\n",
       "      <th></th>\n",
       "      <th>Year</th>\n",
       "      <th>Utility</th>\n",
       "      <th>Units</th>\n",
       "      <th>Usage</th>\n",
       "    </tr>\n",
       "  </thead>\n",
       "  <tbody>\n",
       "    <tr>\n",
       "      <th>0</th>\n",
       "      <td>2013.0</td>\n",
       "      <td>Passengers</td>\n",
       "      <td>PAX</td>\n",
       "      <td>3.209356e+06</td>\n",
       "    </tr>\n",
       "    <tr>\n",
       "      <th>1</th>\n",
       "      <td>2013.0</td>\n",
       "      <td>Gas</td>\n",
       "      <td>Therms</td>\n",
       "      <td>3.632050e+05</td>\n",
       "    </tr>\n",
       "    <tr>\n",
       "      <th>2</th>\n",
       "      <td>2013.0</td>\n",
       "      <td>Gas</td>\n",
       "      <td>Therms</td>\n",
       "      <td>5.000000e+05</td>\n",
       "    </tr>\n",
       "    <tr>\n",
       "      <th>3</th>\n",
       "      <td>2013</td>\n",
       "      <td>Electricity</td>\n",
       "      <td>kWh</td>\n",
       "      <td>1.290435e+07</td>\n",
       "    </tr>\n",
       "    <tr>\n",
       "      <th>5</th>\n",
       "      <td>2013.0</td>\n",
       "      <td>Water</td>\n",
       "      <td>Million Gallons</td>\n",
       "      <td>1.520235e+01</td>\n",
       "    </tr>\n",
       "  </tbody>\n",
       "</table>\n",
       "</div>"
      ],
      "text/plain": [
       "     Year      Utility            Units         Usage\n",
       "0  2013.0   Passengers              PAX  3.209356e+06\n",
       "1  2013.0          Gas           Therms  3.632050e+05\n",
       "2  2013.0          Gas           Therms  5.000000e+05\n",
       "3    2013  Electricity              kWh  1.290435e+07\n",
       "5  2013.0        Water  Million Gallons  1.520235e+01"
      ]
     },
     "execution_count": 38,
     "metadata": {},
     "output_type": "execute_result"
    }
   ],
   "source": [
    "# Replacing values\n",
    "df['Utility'] = df['Utility'].replace({'Elec': 'Electricity'})\n",
    "df.head()"
   ]
  },
  {
   "cell_type": "code",
   "execution_count": 39,
   "id": "1a3e7979",
   "metadata": {},
   "outputs": [
    {
     "data": {
      "text/plain": [
       "array(['Passengers', 'Gas', 'Electricity', 'Water'], dtype=object)"
      ]
     },
     "execution_count": 39,
     "metadata": {},
     "output_type": "execute_result"
    }
   ],
   "source": [
    "# Checking values after cleaning\n",
    "df['Utility'].unique()"
   ]
  },
  {
   "cell_type": "code",
   "execution_count": 40,
   "id": "8be67633",
   "metadata": {},
   "outputs": [
    {
     "data": {
      "text/plain": [
       "Year        object\n",
       "Utility     object\n",
       "Units       object\n",
       "Usage      float64\n",
       "dtype: object"
      ]
     },
     "execution_count": 40,
     "metadata": {},
     "output_type": "execute_result"
    }
   ],
   "source": [
    "# Data types\n",
    "df.dtypes"
   ]
  },
  {
   "cell_type": "code",
   "execution_count": 41,
   "id": "5fe78704",
   "metadata": {},
   "outputs": [],
   "source": [
    "df = df.astype({\"Year\": int})"
   ]
  },
  {
   "cell_type": "code",
   "execution_count": 42,
   "id": "98c248ff",
   "metadata": {},
   "outputs": [
    {
     "data": {
      "text/plain": [
       "Year         int64\n",
       "Utility     object\n",
       "Units       object\n",
       "Usage      float64\n",
       "dtype: object"
      ]
     },
     "execution_count": 42,
     "metadata": {},
     "output_type": "execute_result"
    }
   ],
   "source": [
    "df.dtypes"
   ]
  },
  {
   "cell_type": "code",
   "execution_count": 43,
   "id": "f4264545",
   "metadata": {},
   "outputs": [
    {
     "data": {
      "text/html": [
       "<div>\n",
       "<style scoped>\n",
       "    .dataframe tbody tr th:only-of-type {\n",
       "        vertical-align: middle;\n",
       "    }\n",
       "\n",
       "    .dataframe tbody tr th {\n",
       "        vertical-align: top;\n",
       "    }\n",
       "\n",
       "    .dataframe thead th {\n",
       "        text-align: right;\n",
       "    }\n",
       "</style>\n",
       "<table border=\"1\" class=\"dataframe\">\n",
       "  <thead>\n",
       "    <tr style=\"text-align: right;\">\n",
       "      <th></th>\n",
       "      <th>Year</th>\n",
       "      <th>Utility</th>\n",
       "      <th>Units</th>\n",
       "      <th>Usage</th>\n",
       "    </tr>\n",
       "  </thead>\n",
       "  <tbody>\n",
       "    <tr>\n",
       "      <th>0</th>\n",
       "      <td>2013</td>\n",
       "      <td>Passengers</td>\n",
       "      <td>PAX</td>\n",
       "      <td>3.209356e+06</td>\n",
       "    </tr>\n",
       "    <tr>\n",
       "      <th>1</th>\n",
       "      <td>2013</td>\n",
       "      <td>Gas</td>\n",
       "      <td>Therms</td>\n",
       "      <td>3.632050e+05</td>\n",
       "    </tr>\n",
       "    <tr>\n",
       "      <th>2</th>\n",
       "      <td>2013</td>\n",
       "      <td>Gas</td>\n",
       "      <td>Therms</td>\n",
       "      <td>5.000000e+05</td>\n",
       "    </tr>\n",
       "    <tr>\n",
       "      <th>3</th>\n",
       "      <td>2013</td>\n",
       "      <td>Electricity</td>\n",
       "      <td>kWh</td>\n",
       "      <td>1.290435e+07</td>\n",
       "    </tr>\n",
       "    <tr>\n",
       "      <th>5</th>\n",
       "      <td>2013</td>\n",
       "      <td>Water</td>\n",
       "      <td>Million Gallons</td>\n",
       "      <td>1.520235e+01</td>\n",
       "    </tr>\n",
       "    <tr>\n",
       "      <th>6</th>\n",
       "      <td>2013</td>\n",
       "      <td>Water</td>\n",
       "      <td>Million Gallons</td>\n",
       "      <td>1.583441e+01</td>\n",
       "    </tr>\n",
       "    <tr>\n",
       "      <th>7</th>\n",
       "      <td>2013</td>\n",
       "      <td>Passengers</td>\n",
       "      <td>PAX</td>\n",
       "      <td>2.968951e+06</td>\n",
       "    </tr>\n",
       "    <tr>\n",
       "      <th>8</th>\n",
       "      <td>2013</td>\n",
       "      <td>Gas</td>\n",
       "      <td>Therms</td>\n",
       "      <td>3.174930e+05</td>\n",
       "    </tr>\n",
       "    <tr>\n",
       "      <th>9</th>\n",
       "      <td>2013</td>\n",
       "      <td>Gas</td>\n",
       "      <td>Therms</td>\n",
       "      <td>5.057300e+04</td>\n",
       "    </tr>\n",
       "    <tr>\n",
       "      <th>11</th>\n",
       "      <td>2013</td>\n",
       "      <td>Electricity</td>\n",
       "      <td>kWh</td>\n",
       "      <td>1.263178e+07</td>\n",
       "    </tr>\n",
       "  </tbody>\n",
       "</table>\n",
       "</div>"
      ],
      "text/plain": [
       "    Year      Utility            Units         Usage\n",
       "0   2013   Passengers              PAX  3.209356e+06\n",
       "1   2013          Gas           Therms  3.632050e+05\n",
       "2   2013          Gas           Therms  5.000000e+05\n",
       "3   2013  Electricity              kWh  1.290435e+07\n",
       "5   2013        Water  Million Gallons  1.520235e+01\n",
       "6   2013        Water  Million Gallons  1.583441e+01\n",
       "7   2013   Passengers              PAX  2.968951e+06\n",
       "8   2013          Gas           Therms  3.174930e+05\n",
       "9   2013          Gas           Therms  5.057300e+04\n",
       "11  2013  Electricity              kWh  1.263178e+07"
      ]
     },
     "execution_count": 43,
     "metadata": {},
     "output_type": "execute_result"
    }
   ],
   "source": [
    "df.head(10)"
   ]
  },
  {
   "cell_type": "markdown",
   "id": "a6402ebb",
   "metadata": {},
   "source": [
    "## Transforming Data"
   ]
  },
  {
   "cell_type": "code",
   "execution_count": 44,
   "id": "d6185a3c",
   "metadata": {},
   "outputs": [],
   "source": [
    "c_df = df"
   ]
  },
  {
   "cell_type": "code",
   "execution_count": 45,
   "id": "71fbc7e2",
   "metadata": {},
   "outputs": [
    {
     "data": {
      "text/html": [
       "<div>\n",
       "<style scoped>\n",
       "    .dataframe tbody tr th:only-of-type {\n",
       "        vertical-align: middle;\n",
       "    }\n",
       "\n",
       "    .dataframe tbody tr th {\n",
       "        vertical-align: top;\n",
       "    }\n",
       "\n",
       "    .dataframe thead th {\n",
       "        text-align: right;\n",
       "    }\n",
       "</style>\n",
       "<table border=\"1\" class=\"dataframe\">\n",
       "  <thead>\n",
       "    <tr style=\"text-align: right;\">\n",
       "      <th></th>\n",
       "      <th>Year</th>\n",
       "      <th>Utility</th>\n",
       "      <th>Units</th>\n",
       "      <th>Usage</th>\n",
       "    </tr>\n",
       "  </thead>\n",
       "  <tbody>\n",
       "    <tr>\n",
       "      <th>0</th>\n",
       "      <td>2013</td>\n",
       "      <td>Passengers</td>\n",
       "      <td>PAX</td>\n",
       "      <td>3.209356</td>\n",
       "    </tr>\n",
       "    <tr>\n",
       "      <th>1</th>\n",
       "      <td>2013</td>\n",
       "      <td>Gas</td>\n",
       "      <td>Therms</td>\n",
       "      <td>0.363205</td>\n",
       "    </tr>\n",
       "    <tr>\n",
       "      <th>2</th>\n",
       "      <td>2013</td>\n",
       "      <td>Gas</td>\n",
       "      <td>Therms</td>\n",
       "      <td>0.500000</td>\n",
       "    </tr>\n",
       "    <tr>\n",
       "      <th>3</th>\n",
       "      <td>2013</td>\n",
       "      <td>Electricity</td>\n",
       "      <td>kWh</td>\n",
       "      <td>12.904353</td>\n",
       "    </tr>\n",
       "    <tr>\n",
       "      <th>5</th>\n",
       "      <td>2013</td>\n",
       "      <td>Water</td>\n",
       "      <td>Million Gallons</td>\n",
       "      <td>15.202352</td>\n",
       "    </tr>\n",
       "  </tbody>\n",
       "</table>\n",
       "</div>"
      ],
      "text/plain": [
       "   Year      Utility            Units      Usage\n",
       "0  2013   Passengers              PAX   3.209356\n",
       "1  2013          Gas           Therms   0.363205\n",
       "2  2013          Gas           Therms   0.500000\n",
       "3  2013  Electricity              kWh  12.904353\n",
       "5  2013        Water  Million Gallons  15.202352"
      ]
     },
     "execution_count": 45,
     "metadata": {},
     "output_type": "execute_result"
    }
   ],
   "source": [
    "# Scale the Usage column to be more readable\n",
    "# Rows with \"Water\" as the utility can be left as is\n",
    "\n",
    "def scale_to_millions(row):\n",
    "    if row['Utility'] == 'Water':\n",
    "        return row['Usage']\n",
    "    return row['Usage'] / 1000000\n",
    "\n",
    "c_df['Usage'] = c_df.apply(scale_to_millions, axis = 1)\n",
    "c_df.head()"
   ]
  },
  {
   "cell_type": "code",
   "execution_count": 46,
   "id": "3b9d2bf9",
   "metadata": {},
   "outputs": [
    {
     "data": {
      "text/html": [
       "<div>\n",
       "<style scoped>\n",
       "    .dataframe tbody tr th:only-of-type {\n",
       "        vertical-align: middle;\n",
       "    }\n",
       "\n",
       "    .dataframe tbody tr th {\n",
       "        vertical-align: top;\n",
       "    }\n",
       "\n",
       "    .dataframe thead th {\n",
       "        text-align: right;\n",
       "    }\n",
       "</style>\n",
       "<table border=\"1\" class=\"dataframe\">\n",
       "  <thead>\n",
       "    <tr style=\"text-align: right;\">\n",
       "      <th></th>\n",
       "      <th>Year</th>\n",
       "      <th>Utility</th>\n",
       "      <th>Units</th>\n",
       "      <th>Usage</th>\n",
       "    </tr>\n",
       "  </thead>\n",
       "  <tbody>\n",
       "    <tr>\n",
       "      <th>0</th>\n",
       "      <td>2013</td>\n",
       "      <td>Passengers</td>\n",
       "      <td>Million PAX</td>\n",
       "      <td>3.209356</td>\n",
       "    </tr>\n",
       "    <tr>\n",
       "      <th>1</th>\n",
       "      <td>2013</td>\n",
       "      <td>Gas</td>\n",
       "      <td>Million Therms</td>\n",
       "      <td>0.363205</td>\n",
       "    </tr>\n",
       "    <tr>\n",
       "      <th>2</th>\n",
       "      <td>2013</td>\n",
       "      <td>Gas</td>\n",
       "      <td>Million Therms</td>\n",
       "      <td>0.500000</td>\n",
       "    </tr>\n",
       "    <tr>\n",
       "      <th>3</th>\n",
       "      <td>2013</td>\n",
       "      <td>Electricity</td>\n",
       "      <td>Million kWh</td>\n",
       "      <td>12.904353</td>\n",
       "    </tr>\n",
       "    <tr>\n",
       "      <th>5</th>\n",
       "      <td>2013</td>\n",
       "      <td>Water</td>\n",
       "      <td>Million Gallons</td>\n",
       "      <td>15.202352</td>\n",
       "    </tr>\n",
       "  </tbody>\n",
       "</table>\n",
       "</div>"
      ],
      "text/plain": [
       "   Year      Utility            Units      Usage\n",
       "0  2013   Passengers      Million PAX   3.209356\n",
       "1  2013          Gas   Million Therms   0.363205\n",
       "2  2013          Gas   Million Therms   0.500000\n",
       "3  2013  Electricity      Million kWh  12.904353\n",
       "5  2013        Water  Million Gallons  15.202352"
      ]
     },
     "execution_count": 46,
     "metadata": {},
     "output_type": "execute_result"
    }
   ],
   "source": [
    "# Alter the Units column to reflect the changes\n",
    "def millions_of_units(row):\n",
    "    if row['Utility'] == 'Water':\n",
    "        return row['Units']\n",
    "    return 'Million ' + row['Units']\n",
    "\n",
    "c_df['Units'] = c_df.apply(millions_of_units, axis = 1)\n",
    "c_df.head()"
   ]
  },
  {
   "cell_type": "code",
   "execution_count": 47,
   "id": "4f5f8904",
   "metadata": {},
   "outputs": [
    {
     "data": {
      "text/html": [
       "<div>\n",
       "<style scoped>\n",
       "    .dataframe tbody tr th:only-of-type {\n",
       "        vertical-align: middle;\n",
       "    }\n",
       "\n",
       "    .dataframe tbody tr th {\n",
       "        vertical-align: top;\n",
       "    }\n",
       "\n",
       "    .dataframe thead th {\n",
       "        text-align: right;\n",
       "    }\n",
       "</style>\n",
       "<table border=\"1\" class=\"dataframe\">\n",
       "  <thead>\n",
       "    <tr style=\"text-align: right;\">\n",
       "      <th></th>\n",
       "      <th>Year</th>\n",
       "      <th>Utility</th>\n",
       "      <th>Units</th>\n",
       "      <th>Usage</th>\n",
       "    </tr>\n",
       "  </thead>\n",
       "  <tbody>\n",
       "    <tr>\n",
       "      <th>0</th>\n",
       "      <td>2013</td>\n",
       "      <td>Passengers (Million PAX)</td>\n",
       "      <td>Million PAX</td>\n",
       "      <td>3.209356</td>\n",
       "    </tr>\n",
       "    <tr>\n",
       "      <th>1</th>\n",
       "      <td>2013</td>\n",
       "      <td>Gas (Million Therms)</td>\n",
       "      <td>Million Therms</td>\n",
       "      <td>0.363205</td>\n",
       "    </tr>\n",
       "    <tr>\n",
       "      <th>2</th>\n",
       "      <td>2013</td>\n",
       "      <td>Gas (Million Therms)</td>\n",
       "      <td>Million Therms</td>\n",
       "      <td>0.500000</td>\n",
       "    </tr>\n",
       "    <tr>\n",
       "      <th>3</th>\n",
       "      <td>2013</td>\n",
       "      <td>Electricity (Million kWh)</td>\n",
       "      <td>Million kWh</td>\n",
       "      <td>12.904353</td>\n",
       "    </tr>\n",
       "    <tr>\n",
       "      <th>5</th>\n",
       "      <td>2013</td>\n",
       "      <td>Water (Million Gallons)</td>\n",
       "      <td>Million Gallons</td>\n",
       "      <td>15.202352</td>\n",
       "    </tr>\n",
       "  </tbody>\n",
       "</table>\n",
       "</div>"
      ],
      "text/plain": [
       "   Year                    Utility            Units      Usage\n",
       "0  2013   Passengers (Million PAX)      Million PAX   3.209356\n",
       "1  2013       Gas (Million Therms)   Million Therms   0.363205\n",
       "2  2013       Gas (Million Therms)   Million Therms   0.500000\n",
       "3  2013  Electricity (Million kWh)      Million kWh  12.904353\n",
       "5  2013    Water (Million Gallons)  Million Gallons  15.202352"
      ]
     },
     "execution_count": 47,
     "metadata": {},
     "output_type": "execute_result"
    }
   ],
   "source": [
    "# Combine the Utility and Units columns\n",
    "# by putting Units in parentheses\n",
    "\n",
    "def combine_utility_and_units(row):\n",
    "    return f\"{row['Utility']} ({row['Units']})\"\n",
    "\n",
    "df['Utility'] = df.apply(combine_utility_and_units, axis = 1)\n",
    "df.head()"
   ]
  },
  {
   "cell_type": "code",
   "execution_count": 48,
   "id": "1aee7aa3",
   "metadata": {},
   "outputs": [
    {
     "data": {
      "text/html": [
       "<div>\n",
       "<style scoped>\n",
       "    .dataframe tbody tr th:only-of-type {\n",
       "        vertical-align: middle;\n",
       "    }\n",
       "\n",
       "    .dataframe tbody tr th {\n",
       "        vertical-align: top;\n",
       "    }\n",
       "\n",
       "    .dataframe thead th {\n",
       "        text-align: right;\n",
       "    }\n",
       "</style>\n",
       "<table border=\"1\" class=\"dataframe\">\n",
       "  <thead>\n",
       "    <tr style=\"text-align: right;\">\n",
       "      <th></th>\n",
       "      <th>Year</th>\n",
       "      <th>Utility</th>\n",
       "      <th>Usage</th>\n",
       "    </tr>\n",
       "  </thead>\n",
       "  <tbody>\n",
       "    <tr>\n",
       "      <th>0</th>\n",
       "      <td>2013</td>\n",
       "      <td>Passengers (Million PAX)</td>\n",
       "      <td>3.209356</td>\n",
       "    </tr>\n",
       "    <tr>\n",
       "      <th>1</th>\n",
       "      <td>2013</td>\n",
       "      <td>Gas (Million Therms)</td>\n",
       "      <td>0.363205</td>\n",
       "    </tr>\n",
       "    <tr>\n",
       "      <th>2</th>\n",
       "      <td>2013</td>\n",
       "      <td>Gas (Million Therms)</td>\n",
       "      <td>0.500000</td>\n",
       "    </tr>\n",
       "    <tr>\n",
       "      <th>3</th>\n",
       "      <td>2013</td>\n",
       "      <td>Electricity (Million kWh)</td>\n",
       "      <td>12.904353</td>\n",
       "    </tr>\n",
       "    <tr>\n",
       "      <th>5</th>\n",
       "      <td>2013</td>\n",
       "      <td>Water (Million Gallons)</td>\n",
       "      <td>15.202352</td>\n",
       "    </tr>\n",
       "  </tbody>\n",
       "</table>\n",
       "</div>"
      ],
      "text/plain": [
       "   Year                    Utility      Usage\n",
       "0  2013   Passengers (Million PAX)   3.209356\n",
       "1  2013       Gas (Million Therms)   0.363205\n",
       "2  2013       Gas (Million Therms)   0.500000\n",
       "3  2013  Electricity (Million kWh)  12.904353\n",
       "5  2013    Water (Million Gallons)  15.202352"
      ]
     },
     "execution_count": 48,
     "metadata": {},
     "output_type": "execute_result"
    }
   ],
   "source": [
    "df = df.drop([\"Units\"], axis=1)\n",
    "df.head()"
   ]
  },
  {
   "cell_type": "code",
   "execution_count": 49,
   "id": "058eea0c",
   "metadata": {},
   "outputs": [
    {
     "data": {
      "text/html": [
       "<div>\n",
       "<style scoped>\n",
       "    .dataframe tbody tr th:only-of-type {\n",
       "        vertical-align: middle;\n",
       "    }\n",
       "\n",
       "    .dataframe tbody tr th {\n",
       "        vertical-align: top;\n",
       "    }\n",
       "\n",
       "    .dataframe thead th {\n",
       "        text-align: right;\n",
       "    }\n",
       "</style>\n",
       "<table border=\"1\" class=\"dataframe\">\n",
       "  <thead>\n",
       "    <tr style=\"text-align: right;\">\n",
       "      <th></th>\n",
       "      <th>Usage</th>\n",
       "    </tr>\n",
       "    <tr>\n",
       "      <th>Utility</th>\n",
       "      <th></th>\n",
       "    </tr>\n",
       "  </thead>\n",
       "  <tbody>\n",
       "    <tr>\n",
       "      <th>Gas (Million Therms)</th>\n",
       "      <td>0.273992</td>\n",
       "    </tr>\n",
       "    <tr>\n",
       "      <th>Gas (Million Therms)</th>\n",
       "      <td>0.057670</td>\n",
       "    </tr>\n",
       "    <tr>\n",
       "      <th>Electricity (Million kWh)</th>\n",
       "      <td>13.692172</td>\n",
       "    </tr>\n",
       "    <tr>\n",
       "      <th>Water (Million Gallons)</th>\n",
       "      <td>18.755352</td>\n",
       "    </tr>\n",
       "    <tr>\n",
       "      <th>Passengers (Million PAX)</th>\n",
       "      <td>3.882065</td>\n",
       "    </tr>\n",
       "  </tbody>\n",
       "</table>\n",
       "</div>"
      ],
      "text/plain": [
       "                               Usage\n",
       "Utility                             \n",
       "Gas (Million Therms)        0.273992\n",
       "Gas (Million Therms)        0.057670\n",
       "Electricity (Million kWh)  13.692172\n",
       "Water (Million Gallons)    18.755352\n",
       "Passengers (Million PAX)    3.882065"
      ]
     },
     "execution_count": 49,
     "metadata": {},
     "output_type": "execute_result"
    }
   ],
   "source": [
    "# Create two new DataFrames with data from 2013\n",
    "# and 2018 that each contain only the Utility and \n",
    "# Usage column. Reset the index for each \n",
    "# DataFrame to Utility\n",
    "yr_2013_df = df\\\n",
    "            .loc[df['Year'] == 2013, ['Utility', 'Usage']]\\\n",
    "            .copy()\\\n",
    "            .set_index('Utility')\n",
    "yr_2018_df = df\\\n",
    "            .loc[df['Year'] == 2018, ['Utility', 'Usage']]\\\n",
    "            .copy()\\\n",
    "            .set_index('Utility')\n",
    "\n",
    "yr_2018_df.head()"
   ]
  },
  {
   "cell_type": "markdown",
   "id": "ce07ba46",
   "metadata": {},
   "source": [
    "## Analyze"
   ]
  },
  {
   "cell_type": "code",
   "execution_count": 50,
   "id": "87769301",
   "metadata": {},
   "outputs": [
    {
     "name": "stdout",
     "output_type": "stream",
     "text": [
      "Index(['Passengers (Million PAX)', 'Gas (Million Therms)',\n",
      "       'Electricity (Million kWh)', 'Water (Million Gallons)'],\n",
      "      dtype='object', name='Utility')\n",
      "{'Period': 2013, 'Passengers (Million PAX)': 38.605191, 'Gas (Million Therms)': 4.6279121945699995, 'Electricity (Million kWh)': 394.9835020599999, 'Water (Million Gallons)': 468.377404}\n",
      "{'Period': 2018, 'Passengers (Million PAX)': 42.62084, 'Gas (Million Therms)': 3.3969781519999995, 'Electricity (Million kWh)': 221.9915476, 'Water (Million Gallons)': 305.6328}\n"
     ]
    }
   ],
   "source": [
    "# Calculate the totals for each utility\n",
    "utilities = yr_2013_df.index.unique()\n",
    "print(utilities)\n",
    "\n",
    "totals_2013 = {'Period': 2013}\n",
    "totals_2018 = {'Period': 2018}\n",
    "\n",
    "for utility in utilities:\n",
    "    totals_2013[utility] = yr_2013_df.loc[utility, 'Usage'].sum()\n",
    "    totals_2018[utility] = yr_2018_df.loc[utility, 'Usage'].sum()\n",
    "\n",
    "print(totals_2013)\n",
    "print(totals_2018)"
   ]
  },
  {
   "cell_type": "code",
   "execution_count": 51,
   "id": "4beaeed9",
   "metadata": {},
   "outputs": [
    {
     "data": {
      "text/html": [
       "<div>\n",
       "<style scoped>\n",
       "    .dataframe tbody tr th:only-of-type {\n",
       "        vertical-align: middle;\n",
       "    }\n",
       "\n",
       "    .dataframe tbody tr th {\n",
       "        vertical-align: top;\n",
       "    }\n",
       "\n",
       "    .dataframe thead th {\n",
       "        text-align: right;\n",
       "    }\n",
       "</style>\n",
       "<table border=\"1\" class=\"dataframe\">\n",
       "  <thead>\n",
       "    <tr style=\"text-align: right;\">\n",
       "      <th></th>\n",
       "      <th>Utility</th>\n",
       "      <th>2013</th>\n",
       "      <th>2018</th>\n",
       "      <th>Difference</th>\n",
       "      <th>Change %</th>\n",
       "    </tr>\n",
       "  </thead>\n",
       "  <tbody>\n",
       "    <tr>\n",
       "      <th>0</th>\n",
       "      <td>Passengers (Million PAX)</td>\n",
       "      <td>38.6</td>\n",
       "      <td>42.6</td>\n",
       "      <td>4.0</td>\n",
       "      <td>10.4</td>\n",
       "    </tr>\n",
       "    <tr>\n",
       "      <th>1</th>\n",
       "      <td>Gas (Million Therms)</td>\n",
       "      <td>4.6</td>\n",
       "      <td>3.4</td>\n",
       "      <td>-1.2</td>\n",
       "      <td>-26.6</td>\n",
       "    </tr>\n",
       "    <tr>\n",
       "      <th>2</th>\n",
       "      <td>Electricity (Million kWh)</td>\n",
       "      <td>395.0</td>\n",
       "      <td>222.0</td>\n",
       "      <td>-173.0</td>\n",
       "      <td>-43.8</td>\n",
       "    </tr>\n",
       "    <tr>\n",
       "      <th>3</th>\n",
       "      <td>Water (Million Gallons)</td>\n",
       "      <td>468.4</td>\n",
       "      <td>305.6</td>\n",
       "      <td>-162.7</td>\n",
       "      <td>-34.7</td>\n",
       "    </tr>\n",
       "  </tbody>\n",
       "</table>\n",
       "</div>"
      ],
      "text/plain": [
       "                     Utility   2013   2018  Difference  Change %\n",
       "0   Passengers (Million PAX)   38.6   42.6         4.0      10.4\n",
       "1       Gas (Million Therms)    4.6    3.4        -1.2     -26.6\n",
       "2  Electricity (Million kWh)  395.0  222.0      -173.0     -43.8\n",
       "3    Water (Million Gallons)  468.4  305.6      -162.7     -34.7"
      ]
     },
     "execution_count": 51,
     "metadata": {},
     "output_type": "execute_result"
    }
   ],
   "source": [
    "# Calculate the change per utility as a percentage\n",
    "# of each utility's 2013 total.\n",
    "\n",
    "def get_percentage(original, final):\n",
    "    return round((final - original) / original, 3) * 100\n",
    "\n",
    "data = []\n",
    "for utility in totals_2013.keys():\n",
    "    if utility == 'Period':\n",
    "        continue\n",
    "    original = totals_2013[utility]\n",
    "    final = totals_2018[utility]\n",
    "    row = {\n",
    "        'Utility': utility,\n",
    "        '2013': round(original, 1),\n",
    "        '2018': round(final, 1),\n",
    "        'Difference': round(final - original, 1),\n",
    "        'Change %': get_percentage(original, final)\n",
    "    }\n",
    "    data.append(row)\n",
    "\n",
    "\n",
    "\n",
    "# Create a dataframe with the results\n",
    "summary_df = pd.DataFrame(data)\n",
    "summary_df\n"
   ]
  },
  {
   "cell_type": "code",
   "execution_count": 52,
   "id": "6fde84b3",
   "metadata": {},
   "outputs": [
    {
     "data": {
      "text/html": [
       "<div>\n",
       "<style scoped>\n",
       "    .dataframe tbody tr th:only-of-type {\n",
       "        vertical-align: middle;\n",
       "    }\n",
       "\n",
       "    .dataframe tbody tr th {\n",
       "        vertical-align: top;\n",
       "    }\n",
       "\n",
       "    .dataframe thead th {\n",
       "        text-align: right;\n",
       "    }\n",
       "</style>\n",
       "<table border=\"1\" class=\"dataframe\">\n",
       "  <thead>\n",
       "    <tr style=\"text-align: right;\">\n",
       "      <th></th>\n",
       "      <th>2013</th>\n",
       "      <th>2018</th>\n",
       "      <th>Difference</th>\n",
       "      <th>Change %</th>\n",
       "    </tr>\n",
       "    <tr>\n",
       "      <th>Utility</th>\n",
       "      <th></th>\n",
       "      <th></th>\n",
       "      <th></th>\n",
       "      <th></th>\n",
       "    </tr>\n",
       "  </thead>\n",
       "  <tbody>\n",
       "    <tr>\n",
       "      <th>Passengers (Million PAX)</th>\n",
       "      <td>38.6</td>\n",
       "      <td>42.6</td>\n",
       "      <td>4.0</td>\n",
       "      <td>10.4</td>\n",
       "    </tr>\n",
       "    <tr>\n",
       "      <th>Gas (Million Therms)</th>\n",
       "      <td>4.6</td>\n",
       "      <td>3.4</td>\n",
       "      <td>-1.2</td>\n",
       "      <td>-26.6</td>\n",
       "    </tr>\n",
       "    <tr>\n",
       "      <th>Water (Million Gallons)</th>\n",
       "      <td>468.4</td>\n",
       "      <td>305.6</td>\n",
       "      <td>-162.7</td>\n",
       "      <td>-34.7</td>\n",
       "    </tr>\n",
       "    <tr>\n",
       "      <th>Electricity (Million kWh)</th>\n",
       "      <td>395.0</td>\n",
       "      <td>222.0</td>\n",
       "      <td>-173.0</td>\n",
       "      <td>-43.8</td>\n",
       "    </tr>\n",
       "  </tbody>\n",
       "</table>\n",
       "</div>"
      ],
      "text/plain": [
       "                            2013   2018  Difference  Change %\n",
       "Utility                                                      \n",
       "Passengers (Million PAX)    38.6   42.6         4.0      10.4\n",
       "Gas (Million Therms)         4.6    3.4        -1.2     -26.6\n",
       "Water (Million Gallons)    468.4  305.6      -162.7     -34.7\n",
       "Electricity (Million kWh)  395.0  222.0      -173.0     -43.8"
      ]
     },
     "execution_count": 52,
     "metadata": {},
     "output_type": "execute_result"
    }
   ],
   "source": [
    "# Set the index to the utility column\n",
    "summary_df = summary_df.set_index('Utility')\n",
    "\n",
    "# Sort the rows based on Change %\n",
    "summary_df = summary_df.sort_values('Change %', ascending=False)\n",
    "summary_df"
   ]
  },
  {
   "cell_type": "code",
   "execution_count": 53,
   "id": "88455b89",
   "metadata": {},
   "outputs": [],
   "source": [
    "# Numpy - numerical python library\n",
    "import numpy as np"
   ]
  },
  {
   "cell_type": "code",
   "execution_count": 54,
   "id": "04a5c5aa",
   "metadata": {},
   "outputs": [],
   "source": [
    "# SciPy - scientific python library\n",
    "import scipy.stats as sts"
   ]
  },
  {
   "cell_type": "code",
   "execution_count": 55,
   "id": "07349140",
   "metadata": {},
   "outputs": [
    {
     "data": {
      "text/html": [
       "<div>\n",
       "<style scoped>\n",
       "    .dataframe tbody tr th:only-of-type {\n",
       "        vertical-align: middle;\n",
       "    }\n",
       "\n",
       "    .dataframe tbody tr th {\n",
       "        vertical-align: top;\n",
       "    }\n",
       "\n",
       "    .dataframe thead th {\n",
       "        text-align: right;\n",
       "    }\n",
       "</style>\n",
       "<table border=\"1\" class=\"dataframe\">\n",
       "  <thead>\n",
       "    <tr style=\"text-align: right;\">\n",
       "      <th></th>\n",
       "      <th>STATION</th>\n",
       "      <th>DATE</th>\n",
       "      <th>REPORT_TYPE</th>\n",
       "      <th>HourlyDryBulbTemperature</th>\n",
       "    </tr>\n",
       "  </thead>\n",
       "  <tbody>\n",
       "    <tr>\n",
       "      <th>0</th>\n",
       "      <td>72295023174</td>\n",
       "      <td>2019-01-01T00:49:00</td>\n",
       "      <td>FM-16</td>\n",
       "      <td>52</td>\n",
       "    </tr>\n",
       "    <tr>\n",
       "      <th>1</th>\n",
       "      <td>72295023174</td>\n",
       "      <td>2019-01-01T00:53:00</td>\n",
       "      <td>FM-15</td>\n",
       "      <td>51</td>\n",
       "    </tr>\n",
       "    <tr>\n",
       "      <th>2</th>\n",
       "      <td>72295023174</td>\n",
       "      <td>2019-01-01T01:53:00</td>\n",
       "      <td>FM-15</td>\n",
       "      <td>52</td>\n",
       "    </tr>\n",
       "    <tr>\n",
       "      <th>3</th>\n",
       "      <td>72295023174</td>\n",
       "      <td>2019-01-01T02:53:00</td>\n",
       "      <td>FM-15</td>\n",
       "      <td>49</td>\n",
       "    </tr>\n",
       "    <tr>\n",
       "      <th>4</th>\n",
       "      <td>72295023174</td>\n",
       "      <td>2019-01-01T03:53:00</td>\n",
       "      <td>FM-15</td>\n",
       "      <td>43</td>\n",
       "    </tr>\n",
       "  </tbody>\n",
       "</table>\n",
       "</div>"
      ],
      "text/plain": [
       "       STATION                 DATE REPORT_TYPE  HourlyDryBulbTemperature\n",
       "0  72295023174  2019-01-01T00:49:00       FM-16                        52\n",
       "1  72295023174  2019-01-01T00:53:00       FM-15                        51\n",
       "2  72295023174  2019-01-01T01:53:00       FM-15                        52\n",
       "3  72295023174  2019-01-01T02:53:00       FM-15                        49\n",
       "4  72295023174  2019-01-01T03:53:00       FM-15                        43"
      ]
     },
     "execution_count": 55,
     "metadata": {},
     "output_type": "execute_result"
    }
   ],
   "source": [
    "# Read in the LAX temperature data\n",
    "temperature_df = pd.read_csv('./resources/lax_temperature.csv')\n",
    "temperature_df.head()"
   ]
  },
  {
   "cell_type": "code",
   "execution_count": 56,
   "id": "c3161392",
   "metadata": {},
   "outputs": [
    {
     "data": {
      "text/plain": [
       "0    52\n",
       "1    51\n",
       "2    52\n",
       "3    49\n",
       "4    43\n",
       "Name: HourlyDryBulbTemperature, dtype: int64"
      ]
     },
     "execution_count": 56,
     "metadata": {},
     "output_type": "execute_result"
    }
   ],
   "source": [
    "temperatures = temperature_df['HourlyDryBulbTemperature']\n",
    "temperatures.head()"
   ]
  },
  {
   "cell_type": "code",
   "execution_count": 57,
   "id": "0cbb3a21",
   "metadata": {},
   "outputs": [
    {
     "name": "stdout",
     "output_type": "stream",
     "text": [
      "The mean temperature at the LAX airport is 57.66\n",
      "The median temperature at the LAX airport is 57.00\n",
      "The mode temperature at the LAX airport is ModeResult(mode=57, count=327)\n"
     ]
    }
   ],
   "source": [
    "# Measures of central tendency - try to indentify the center of a dataset\n",
    "# Mean - average - use NumPy\n",
    "# Median - middle of a sorted dataset - use NumPy\n",
    "# Mode - value that occurs the most - use SciPy\n",
    "mean_numpy = np.mean(temperatures)\n",
    "print(f\"The mean temperature at the LAX airport is {mean_numpy:.2f}\")\n",
    "\n",
    "median_numpy = np.median(temperatures)\n",
    "print(f\"The median temperature at the LAX airport is {median_numpy:.2f}\")\n",
    "\n",
    "mode_scipy = sts.mode(temperatures)\n",
    "print(f\"The mode temperature at the LAX airport is {mode_scipy}\")"
   ]
  },
  {
   "cell_type": "code",
   "execution_count": 58,
   "id": "24c42703",
   "metadata": {},
   "outputs": [
    {
     "name": "stdout",
     "output_type": "stream",
     "text": [
      "The population variance using the NumPy module is 32.33\n"
     ]
    }
   ],
   "source": [
    "# Variance describes how far the values in the dataset are from the mean overall - Numpy\n",
    "# Describes how much variation exists in the data\n",
    "# Considers the distance of each value in the dataset from the center of the data\n",
    "variance = np.var(temperatures)\n",
    "print(f\"The population variance using the NumPy module is {variance:.2f}\")"
   ]
  },
  {
   "cell_type": "code",
   "execution_count": 59,
   "id": "24cf4ea9",
   "metadata": {},
   "outputs": [
    {
     "name": "stdout",
     "output_type": "stream",
     "text": [
      "The population standard deviation using the NumPy module is 5.69\n"
     ]
    }
   ],
   "source": [
    "# Standard deviation: describes how spread out the data is from the mean - Numpy\n",
    "# Gets calculated as the square root of the variance\n",
    "# Exists in the same unit of measurement as the mean and the data\n",
    "stand_dev = np.std(temperatures)\n",
    "print(f\"The population standard deviation using the NumPy module is {stand_dev:.2f}\")"
   ]
  },
  {
   "cell_type": "code",
   "execution_count": 60,
   "id": "94f2641a",
   "metadata": {},
   "outputs": [
    {
     "name": "stdout",
     "output_type": "stream",
     "text": [
      "The z-scores using the SciPy module are 0      -0.994570\n",
      "1      -1.170440\n",
      "2      -0.994570\n",
      "3      -1.522181\n",
      "4      -2.577401\n",
      "          ...   \n",
      "3524    0.412390\n",
      "3525    0.236520\n",
      "3526    0.060650\n",
      "3527    0.060650\n",
      "3528    0.060650\n",
      "Name: HourlyDryBulbTemperature, Length: 3529, dtype: float64\n"
     ]
    }
   ],
   "source": [
    "# Z-score: the distance is in terms of standard deviations and can be positive or negative - SciPy\n",
    "# Negative z-score: the value of the data point is less than the mean\n",
    "# Positive z-score: the value of the data point is greater than the mean\n",
    "# Smaller the z-score the closer the value is to the mean\n",
    "z_scipy = sts.zscore(temperatures)\n",
    "print(f\"The z-scores using the SciPy module are {z_scipy}\")"
   ]
  },
  {
   "cell_type": "code",
   "execution_count": 61,
   "id": "dd9a3b5d",
   "metadata": {},
   "outputs": [],
   "source": [
    "# Quantiles, Quartiles, percentiles and outliers"
   ]
  },
  {
   "cell_type": "code",
   "execution_count": 62,
   "id": "8cad4107",
   "metadata": {},
   "outputs": [],
   "source": [
    "# Quantiles: These are values that divide sorted data into well-defined bins based on the position of each point.\n",
    "# The two most commonly used quantiles are quartiles and percentiles."
   ]
  },
  {
   "cell_type": "code",
   "execution_count": 63,
   "id": "2babc4ad",
   "metadata": {},
   "outputs": [
    {
     "name": "stdout",
     "output_type": "stream",
     "text": [
      "The lower quartile of temperatures is: 54.0\n",
      "The upper quartile of temperatures is: 60.0\n",
      "The interquartile range of temperatures is: 6.0\n",
      "The the median of temperatures is: 57.0 \n",
      "Values below 45.0 could be outliers.\n",
      "Values above 69.0 could be outliers.\n"
     ]
    }
   ],
   "source": [
    "# Quartiles: These are the three values that divide the sorted data into four equally sized groups.\n",
    "# Thus, 25% of the data values are less than the first quartile, \n",
    "# 50% are less than the second quartile, and \n",
    "# 75% are less than the third quartile. \n",
    "# The second quartile is also the median.\n",
    "Q1 = temperatures.quantile(0.25)\n",
    "median = temperatures.quantile(0.5)\n",
    "Q3 = temperatures.quantile(0.75)\n",
    "IQR = Q3 - Q1\n",
    "\n",
    "print(f\"The lower quartile of temperatures is: {Q1}\")\n",
    "print(f\"The upper quartile of temperatures is: {Q3}\")\n",
    "print(f\"The interquartile range of temperatures is: {IQR}\")\n",
    "print(f\"The the median of temperatures is: {median} \")\n",
    "\n",
    "lower_bound = Q1 - (1.5 * IQR)\n",
    "upper_bound = Q3 + (1.5 * IQR)\n",
    "print(f\"Values below {lower_bound} could be outliers.\")\n",
    "print(f\"Values above {upper_bound} could be outliers.\")"
   ]
  },
  {
   "cell_type": "code",
   "execution_count": 64,
   "id": "022696a4",
   "metadata": {},
   "outputs": [],
   "source": [
    "# Percentiles: These divide the sorted data into 100 equally sized groups. \n",
    "# Each percentile is named for the percentage of data values that are less than that percentile."
   ]
  },
  {
   "cell_type": "code",
   "execution_count": 65,
   "id": "78605501",
   "metadata": {},
   "outputs": [
    {
     "data": {
      "text/html": [
       "<div>\n",
       "<style scoped>\n",
       "    .dataframe tbody tr th:only-of-type {\n",
       "        vertical-align: middle;\n",
       "    }\n",
       "\n",
       "    .dataframe tbody tr th {\n",
       "        vertical-align: top;\n",
       "    }\n",
       "\n",
       "    .dataframe thead th {\n",
       "        text-align: right;\n",
       "    }\n",
       "</style>\n",
       "<table border=\"1\" class=\"dataframe\">\n",
       "  <thead>\n",
       "    <tr style=\"text-align: right;\">\n",
       "      <th></th>\n",
       "      <th>STATION</th>\n",
       "      <th>DATE</th>\n",
       "      <th>REPORT_TYPE</th>\n",
       "      <th>HourlyDryBulbTemperature</th>\n",
       "    </tr>\n",
       "  </thead>\n",
       "  <tbody>\n",
       "    <tr>\n",
       "      <th>4</th>\n",
       "      <td>72295023174</td>\n",
       "      <td>2019-01-01T03:53:00</td>\n",
       "      <td>FM-15</td>\n",
       "      <td>43</td>\n",
       "    </tr>\n",
       "    <tr>\n",
       "      <th>5</th>\n",
       "      <td>72295023174</td>\n",
       "      <td>2019-01-01T04:00:00</td>\n",
       "      <td>FM-12</td>\n",
       "      <td>43</td>\n",
       "    </tr>\n",
       "    <tr>\n",
       "      <th>8</th>\n",
       "      <td>72295023174</td>\n",
       "      <td>2019-01-01T06:53:00</td>\n",
       "      <td>FM-15</td>\n",
       "      <td>44</td>\n",
       "    </tr>\n",
       "    <tr>\n",
       "      <th>35</th>\n",
       "      <td>72295023174</td>\n",
       "      <td>2019-01-02T05:53:00</td>\n",
       "      <td>FM-15</td>\n",
       "      <td>40</td>\n",
       "    </tr>\n",
       "    <tr>\n",
       "      <th>245</th>\n",
       "      <td>72295023174</td>\n",
       "      <td>2019-01-08T12:53:00</td>\n",
       "      <td>FM-15</td>\n",
       "      <td>70</td>\n",
       "    </tr>\n",
       "  </tbody>\n",
       "</table>\n",
       "</div>"
      ],
      "text/plain": [
       "         STATION                 DATE REPORT_TYPE  HourlyDryBulbTemperature\n",
       "4    72295023174  2019-01-01T03:53:00       FM-15                        43\n",
       "5    72295023174  2019-01-01T04:00:00       FM-12                        43\n",
       "8    72295023174  2019-01-01T06:53:00       FM-15                        44\n",
       "35   72295023174  2019-01-02T05:53:00       FM-15                        40\n",
       "245  72295023174  2019-01-08T12:53:00       FM-15                        70"
      ]
     },
     "execution_count": 65,
     "metadata": {},
     "output_type": "execute_result"
    }
   ],
   "source": [
    "# Outliers: Multiple mathematical calculations exist to find potential outliers, \n",
    "# but in general outliers are extreme values in a dataset.\n",
    "outlier_df = temperature_df.loc[(temperature_df['HourlyDryBulbTemperature'] < lower_bound) |\n",
    "                                (temperature_df['HourlyDryBulbTemperature'] > upper_bound)]\n",
    "outlier_df.head()"
   ]
  },
  {
   "cell_type": "code",
   "execution_count": null,
   "id": "6b7f6c34",
   "metadata": {},
   "outputs": [],
   "source": []
  }
 ],
 "metadata": {
  "kernelspec": {
   "display_name": "Python 3 (ipykernel)",
   "language": "python",
   "name": "python3"
  },
  "language_info": {
   "codemirror_mode": {
    "name": "ipython",
    "version": 3
   },
   "file_extension": ".py",
   "mimetype": "text/x-python",
   "name": "python",
   "nbconvert_exporter": "python",
   "pygments_lexer": "ipython3",
   "version": "3.11.5"
  }
 },
 "nbformat": 4,
 "nbformat_minor": 5
}
